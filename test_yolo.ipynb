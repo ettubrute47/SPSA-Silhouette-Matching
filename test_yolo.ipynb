{
 "cells": [
  {
   "cell_type": "markdown",
   "metadata": {},
   "source": [
    "https://www.kaggle.com/code/kelde9/yolov7-how-to-use-tutorial\n",
    "\n",
    "YOLO for object segmentation to determine bounding box of people in an image\n",
    "\n",
    "Get weights for the model\n",
    "\n",
    "wget https://github.com/WongKinYiu/yolov7/releases/download/v0.1/yolov7-e6e.pt\n",
    "\n",
    "python detect.py --weights yolov7-e6e.pt --conf 0.60 --img-size 640 --source ./man_cafe.jpg\n",
    "\n",
    "python detect.py --weights yolov7-e6e.pt --source ./man_cafe.jpg"
   ]
  },
  {
   "cell_type": "code",
   "execution_count": null,
   "metadata": {},
   "outputs": [],
   "source": []
  }
 ],
 "metadata": {
  "language_info": {
   "name": "python"
  },
  "orig_nbformat": 4
 },
 "nbformat": 4,
 "nbformat_minor": 2
}
