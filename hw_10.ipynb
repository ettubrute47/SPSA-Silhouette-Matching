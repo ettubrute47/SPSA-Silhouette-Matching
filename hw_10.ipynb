{
 "cells": [
  {
   "cell_type": "markdown",
   "metadata": {},
   "source": [
    "$$\n",
    "\\\n",
    "\\\n",
    "\\\n",
    "$$\n",
    "15.5"
   ]
  },
  {
   "cell_type": "markdown",
   "metadata": {},
   "source": [
    "$$\n",
    "\\theta_{k+1} = \\theta_k - a_k Y_k(\\theta_k) \\\\\n",
    "Y_k(\\theta_k) = Q(\\theta_k, V) \\frac{\\partial log(p_v)}{\\partial \\theta} + \\frac{\\partial Q}{\\partial \\theta} \\\\\n",
    "$$\n",
    "For exercise 15.4 we have:\n",
    "$$\n",
    "Y_k(\\beta_k) = 2(\\beta_k - 10)\\\\\n",
    "Y_k(\\lambda_k) = ((\\beta_k-10)^2 +2V_k\\lambda_k - V_k)\\frac{\\lambda_k-V_k}{(\\lambda_k-1)\\lambda_k}+2V_k\n",
    "$$\n",
    "\n",
    "$$\n",
    "\\theta_0 = [10.5, 0.5]^T\\\\\n",
    "a_k = 0.1 / (50 + k)^{0.501}\n",
    "$$"
   ]
  },
  {
   "cell_type": "code",
   "execution_count": 1,
   "metadata": {},
   "outputs": [],
   "source": [
    "import numpy as np\n",
    "import matplotlib.pyplot as plt"
   ]
  },
  {
   "cell_type": "code",
   "execution_count": 5,
   "metadata": {},
   "outputs": [
    {
     "name": "stdout",
     "output_type": "stream",
     "text": [
      "0: 0.20380884163207624\n",
      "100: -0.12119947069832457\n",
      "200: -0.12477933339030078\n",
      "300: -0.12497813820695794\n",
      "400: -0.12499703593006845\n",
      "500: -0.12499950277622723\n",
      "600: -0.12499990244034043\n",
      "700: -0.1249999783833286\n",
      "800: -0.12499999471775416\n",
      "900: -0.12499999860031152\n",
      "999: -0.124999999597907\n"
     ]
    }
   ],
   "source": [
    "def dlog_pv(lam, v):\n",
    "    return (lam - v) / ((lam - 1) * lam)\n",
    "\n",
    "def Q(theta, v):\n",
    "    b, lam = theta\n",
    "    return (b - 10)**2 + 2*v*lam - v\n",
    "\n",
    "def Yk(theta, v):\n",
    "    b, lam = theta\n",
    "    return np.array([2*(b-10), Q(theta, v)*dlog_pv(lam, v)+2*v])\n",
    "\n",
    "def ak(k):\n",
    "    return 0.1 / (50 + k)**0.501\n",
    "\n",
    "def L(theta):\n",
    "    b, lam = theta\n",
    "    return (b - 10)**2 + 2*lam**2-lam\n",
    "\n",
    "\n",
    "theta_0 = np.array([10.5, 0.5])\n",
    "\n",
    "theta = np.array(theta_0)\n",
    "n_iter = 1_000\n",
    "losses = []\n",
    "for i in range(n_iter):\n",
    "    vk = np.random.rand() < theta[0]\n",
    "    theta -= ak(i + 1) * Yk(theta, vk)\n",
    "    losses.append(L(theta))\n",
    "    if i % int(n_iter // 10) == 0:\n",
    "        print(f\"{i}: {losses[-1]}\")\n",
    "print(f\"{i}: {losses[-1]}\")\n"
   ]
  },
  {
   "cell_type": "code",
   "execution_count": 8,
   "metadata": {},
   "outputs": [
    {
     "name": "stdout",
     "output_type": "stream",
     "text": [
      "[10.00002005  0.25      ]\n",
      "Diff:  2.0052256724859145e-05\n",
      "[10.00002005  0.25      ]\n",
      "Diff:  2.0052256724859145e-05\n",
      "[10.00002005  0.25      ]\n",
      "Diff:  2.0052256724859145e-05\n",
      "[10.00002005  0.25      ]\n",
      "Diff:  2.0052256724859145e-05\n",
      "[10.00002005  0.25      ]\n",
      "Diff:  2.0052256724859145e-05\n"
     ]
    }
   ],
   "source": [
    "def experiment(n_iter, print_progress=False):\n",
    "    theta_0 = np.array([10.5, 0.5])\n",
    "\n",
    "    theta = np.array(theta_0)\n",
    "    n_iter = 1_000\n",
    "    losses = []\n",
    "    thetas = []\n",
    "    for i in range(n_iter):\n",
    "        vk = np.random.rand() < theta[0]\n",
    "        theta -= ak(i + 1) * Yk(theta, vk)\n",
    "        losses.append(L(theta))\n",
    "        thetas.append(np.array(theta))\n",
    "        if print_progress and i % int(n_iter // 10) == 0:\n",
    "            print(f\"{i}: {losses[-1]}\")\n",
    "    return np.array(thetas), np.array(losses)\n",
    "\n",
    "theta_opt = np.array([10, 0.25])\n",
    "for i in range(5):\n",
    "    thetas, losses = experiment(1_000)\n",
    "    print(thetas[-1])\n",
    "    print(\"Diff: \", np.linalg.norm(thetas[-1] - theta_opt))"
   ]
  },
  {
   "cell_type": "code",
   "execution_count": 10,
   "metadata": {},
   "outputs": [
    {
     "name": "stdout",
     "output_type": "stream",
     "text": [
      "0: theta: [10.48605215  0.46513037], L(theta) = 0.20380884163207624\n",
      "10: theta: [10.37147019  0.25439941], L(theta) = 0.013028811861220457\n",
      "100: theta: [10.06162271  0.24874077], L(theta) = -0.12119947069832457\n",
      "999: theta: [10.00002005  0.25      ], L(theta) = -0.124999999597907\n"
     ]
    }
   ],
   "source": [
    "for idx in (0, 10, 100, 999):\n",
    "    print(f\"{idx}: theta: {thetas[idx]}, L(theta) = {losses[idx]}\")"
   ]
  },
  {
   "cell_type": "code",
   "execution_count": null,
   "metadata": {},
   "outputs": [],
   "source": []
  }
 ],
 "metadata": {
  "kernelspec": {
   "display_name": "pytorch_cuda",
   "language": "python",
   "name": "python3"
  },
  "language_info": {
   "codemirror_mode": {
    "name": "ipython",
    "version": 3
   },
   "file_extension": ".py",
   "mimetype": "text/x-python",
   "name": "python",
   "nbconvert_exporter": "python",
   "pygments_lexer": "ipython3",
   "version": "3.9.12"
  }
 },
 "nbformat": 4,
 "nbformat_minor": 2
}
