{
 "cells": [
  {
   "cell_type": "code",
   "execution_count": 2,
   "metadata": {},
   "outputs": [],
   "source": [
    "import numpy as np\n",
    "import networkx as nx\n",
    "import matplotlib.pyplot as plt"
   ]
  },
  {
   "cell_type": "code",
   "execution_count": 11,
   "metadata": {},
   "outputs": [],
   "source": [
    "import networkx as nx\n",
    "import matplotlib.pyplot as plt\n",
    "\n",
    "class BayesianNetwork:\n",
    "    def __init__(self):\n",
    "        # Directed graph for BN\n",
    "        self.graph = nx.DiGraph()\n",
    "\n",
    "    def add_variable(self, variable_name):\n",
    "        \"\"\"\n",
    "        Adds a new variable (node) to the Bayesian Network.\n",
    "        \"\"\"\n",
    "        self.graph.add_node(variable_name, probability=None)\n",
    "        self.graph.nodes[variable_name][\"proba_table\"] = dict()\n",
    "\n",
    "    def add_edge(self, parent, child):\n",
    "        \"\"\"\n",
    "        Adds an edge between two variables indicating causal relationship.\n",
    "        \"\"\"\n",
    "        self.graph.add_edge(parent, child)\n",
    "    \n",
    "    def __getitem__(self, key):\n",
    "        return self.graph.nodes[key][\"proba_table\"]\n",
    "\n",
    "    def set_probability(self, variable_name, probability):\n",
    "        \"\"\"\n",
    "        Sets the probability for a particular variable.\n",
    "        Currently, this is a placeholder and works for single probabilities.\n",
    "        In real-world scenarios, you'll have to use Conditional Probability Tables (CPT).\n",
    "        \"\"\"\n",
    "        self.graph.nodes[variable_name]['probability'] = probability\n",
    "    \n",
    "    def set_conditional_probability(self, child, value, parent_values, proba):\n",
    "        \"\"\"Sets conditional probability table for a RV\n",
    "\n",
    "        My value, given parent values ... = just store as tuple for parents...\n",
    "\n",
    "        Args:\n",
    "            child (str): Name of the RV\n",
    "            value (Any): value of the RV\n",
    "            parent_values (dict): Dictionary of parent values\n",
    "            proba (float): Conditional probability\n",
    "        \"\"\"\n",
    "        proba_table = self[child]\n",
    "        if value not in proba_table:\n",
    "            proba_table[value] = dict()\n",
    "        parents = self.graph.predecessors(child)\n",
    "        assert set(parents) == set(parent_values)\n",
    "        key = tuple([parent_values[parent] for parent in sorted(list(parent_values))])\n",
    "        print(f\"Setting P({child}={value}|{sorted(list(parent_values))}={key}) = {proba}\")\n",
    "        proba_table[value][key] = proba\n",
    "        self.graph.nodes[child][\"proba_table\"][value] \n",
    "    \n",
    "    def query(self, variable, evidence: dict):\n",
    "        return 1.0\n",
    "\n",
    "    def visualize(self):\n",
    "        \"\"\"\n",
    "        Visualizes the Bayesian Network using NetworkX and Matplotlib.\n",
    "        \"\"\"\n",
    "        pos = nx.spring_layout(self.graph)\n",
    "        nx.draw(self.graph, pos, with_labels=True, node_size=2000, node_color='skyblue')\n",
    "        plt.title(\"Bayesian Network\")\n",
    "        plt.show()\n"
   ]
  },
  {
   "cell_type": "code",
   "execution_count": 6,
   "metadata": {},
   "outputs": [
    {
     "data": {
      "image/png": "[encoded data removed]",
      "text/plain": [
       "<Figure size 640x480 with 1 Axes>"
      ]
     },
     "metadata": {},
     "output_type": "display_data"
    }
   ],
   "source": [
    "\n",
    "bn = BayesianNetwork()\n",
    "bn.add_variable('Rain')\n",
    "bn.add_variable('TrafficJam')\n",
    "bn.add_edge('Rain', 'TrafficJam')\n",
    "bn.set_probability('Rain', 0.3)\n",
    "bn.visualize()\n"
   ]
  },
  {
   "cell_type": "code",
   "execution_count": 12,
   "metadata": {},
   "outputs": [
    {
     "name": "stdout",
     "output_type": "stream",
     "text": [
      "Setting P(Rain=True|['Cloudy']=(True,)) = 0.8\n",
      "Setting P(Rain=True|['Cloudy']=(False,)) = 0.2\n",
      "Setting P(TrafficJam=True|['Cloudy', 'Rain']=(True, True)) = 0.9\n",
      "Setting P(TrafficJam=True|['Cloudy', 'Rain']=(True, False)) = 0.5\n",
      "Setting P(TrafficJam=True|['Cloudy', 'Rain']=(False, True)) = 0.6\n",
      "Setting P(TrafficJam=True|['Cloudy', 'Rain']=(False, False)) = 0.1\n",
      "P(TrafficJam | Cloudy, ¬Rain) = 1.0\n"
     ]
    }
   ],
   "source": [
    "bn = BayesianNetwork()\n",
    "\n",
    "# Add variables/nodes\n",
    "bn.add_variable('Cloudy')\n",
    "bn.add_variable('Rain')\n",
    "bn.add_variable('TrafficJam')\n",
    "\n",
    "# Add causal relationships/edges\n",
    "bn.add_edge('Cloudy', 'Rain')\n",
    "bn.add_edge('Cloudy', 'TrafficJam')\n",
    "bn.add_edge('Rain', 'TrafficJam')\n",
    "\n",
    "# Set single probabilities\n",
    "bn.set_probability('Cloudy', 0.5)  # P(Cloudy) = 0.5\n",
    "\n",
    "# Set conditional probabilities with CPTs\n",
    "# Notation: bn.set_conditional_probability(child, {parents}, probability)\n",
    "bn.set_conditional_probability('Rain', True, {'Cloudy': True}, 0.8)   # P(Rain | Cloudy) = 0.8\n",
    "bn.set_conditional_probability('Rain', True, {'Cloudy': False}, 0.2)  # P(Rain | ¬Cloudy) = 0.2\n",
    "\n",
    "# Setting for TrafficJam, which has two parents\n",
    "# For simplicity, let's assume traffic jams only occur when both Cloudy and Rain conditions are true\n",
    "bn.set_conditional_probability('TrafficJam', True, {'Cloudy': True, 'Rain': True}, 0.9)\n",
    "bn.set_conditional_probability('TrafficJam', True, {'Cloudy': True, 'Rain': False}, 0.5)\n",
    "bn.set_conditional_probability('TrafficJam', True, {'Cloudy': False, 'Rain': True}, 0.6)\n",
    "bn.set_conditional_probability('TrafficJam', True, {'Cloudy': False, 'Rain': False}, 0.1)\n",
    "\n",
    "# Now, let's perform a query.\n",
    "# Hypothetical usage for querying the network:\n",
    "# bn.query(target_variable, evidence={...})\n",
    "# The query method should return the probability distribution of the target variable given the evidence.\n",
    "\n",
    "# For example: What's the probability of a TrafficJam given it's Cloudy and there's no Rain?\n",
    "result = bn.query('TrafficJam', evidence={'Cloudy': True, 'Rain': False})\n",
    "print(f\"P(TrafficJam | Cloudy, ¬Rain) = {result}\")\n"
   ]
  },
  {
   "cell_type": "code",
   "execution_count": 13,
   "metadata": {},
   "outputs": [
    {
     "data": {
      "text/plain": [
       "{True: {(True, True): 0.9,\n",
       "  (True, False): 0.5,\n",
       "  (False, True): 0.6,\n",
       "  (False, False): 0.1}}"
      ]
     },
     "execution_count": 13,
     "metadata": {},
     "output_type": "execute_result"
    }
   ],
   "source": [
    "bn[\"TrafficJam\"]"
   ]
  },
  {
   "cell_type": "code",
   "execution_count": null,
   "metadata": {},
   "outputs": [],
   "source": []
  }
 ],
 "metadata": {
  "kernelspec": {
   "display_name": "sigproc",
   "language": "python",
   "name": "python3"
  },
  "language_info": {
   "codemirror_mode": {
    "name": "ipython",
    "version": 3
   },
   "file_extension": ".py",
   "mimetype": "text/x-python",
   "name": "python",
   "nbconvert_exporter": "python",
   "pygments_lexer": "ipython3",
   "version": "3.11.0"
  },
  "orig_nbformat": 4
 },
 "nbformat": 4,
 "nbformat_minor": 2
}
