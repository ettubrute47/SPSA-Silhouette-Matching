{
 "cells": [
  {
   "cell_type": "code",
   "execution_count": 15,
   "metadata": {},
   "outputs": [
    {
     "name": "stdout",
     "output_type": "stream",
     "text": [
      "i, j  delta_ij  factor  -half_interval  half_interval  outside_interval\n",
      "0, 1   -15      4.38         -12.58         12.58          2.42\n",
      "0, 2    -1      4.38         -12.58         12.58        -11.58\n",
      "0, 3     8      5.06         -14.53         14.53         -6.53\n",
      "0, 4     1      5.06         -14.53         14.53        -13.53\n",
      "1, 2    14      4.38         -12.58         12.58          1.42\n",
      "1, 3    23      5.06         -14.53         14.53          8.47\n",
      "1, 4    16      5.06         -14.53         14.53          1.47\n",
      "2, 3     9      5.06         -14.53         14.53         -5.53\n",
      "2, 4     2      5.06         -14.53         14.53        -12.53\n",
      "3, 4    -7      5.66         -16.24         16.24         -9.24\n"
     ]
    }
   ],
   "source": [
    "import numpy as np\n",
    "\n",
    "L_bar = [71, 86, 72, 63, 70]\n",
    "ns = [10, 10, 10, 6, 6]\n",
    "\n",
    "s = 9.8\n",
    "Q_critical = 4.06\n",
    "K = 5\n",
    "\n",
    "def get_factor(ni, nj):\n",
    "    return s * np.sqrt(1/ni + 1/nj)\n",
    "\n",
    "print(f\"i, j  delta_ij  factor  -half_interval  half_interval  outside_interval\")\n",
    "for i in range(K):\n",
    "    for j in range(i + 1, K):\n",
    "        delta_ij = L_bar[i] - L_bar[j]\n",
    "        factor = get_factor(ns[i], ns[j])\n",
    "        half_interval = Q_critical * factor / np.sqrt(2)\n",
    "        outside_amount = abs(delta_ij) - half_interval\n",
    "        print(f\"{i}, {j}  {delta_ij:4}  {factor:8.2f}  {-half_interval:13.2f}  {half_interval:12.2f}  {outside_amount:12.2f}\")"
   ]
  },
  {
   "cell_type": "code",
   "execution_count": 18,
   "metadata": {},
   "outputs": [
    {
     "name": "stdout",
     "output_type": "stream",
     "text": [
      "Li where Li < 2.10\n"
     ]
    },
    {
     "data": {
      "text/plain": [
       "[1.1, 0.8, 1.9, 2.0, 1.7]"
      ]
     },
     "execution_count": 18,
     "metadata": {},
     "output_type": "execute_result"
    }
   ],
   "source": [
    "L_bar = [2.3, 1.1, 0.8, 1.9, 2.0, 1.7]\n",
    "s = np.sqrt(1.6)\n",
    "\n",
    "t_critical = 2.29\n",
    "n = 10\n",
    "\n",
    "L_max_indiff = min(L_bar) + s * t_critical * np.sqrt(2 / n)\n",
    "print(f\"Li where Li < {L_max_indiff:.2f}\")\n",
    "[L for L in L_bar if L < L_max_indiff]"
   ]
  },
  {
   "cell_type": "code",
   "execution_count": 19,
   "metadata": {},
   "outputs": [
    {
     "data": {
      "text/plain": [
       "1.2649110640673518"
      ]
     },
     "execution_count": 19,
     "metadata": {},
     "output_type": "execute_result"
    }
   ],
   "source": [
    "np.sqrt(1.6)"
   ]
  },
  {
   "cell_type": "code",
   "execution_count": null,
   "metadata": {},
   "outputs": [],
   "source": []
  }
 ],
 "metadata": {
  "kernelspec": {
   "display_name": "pytorch22",
   "language": "python",
   "name": "python3"
  },
  "language_info": {
   "codemirror_mode": {
    "name": "ipython",
    "version": 3
   },
   "file_extension": ".py",
   "mimetype": "text/x-python",
   "name": "python",
   "nbconvert_exporter": "python",
   "pygments_lexer": "ipython3",
   "version": "3.10.8"
  },
  "orig_nbformat": 4
 },
 "nbformat": 4,
 "nbformat_minor": 2
}
