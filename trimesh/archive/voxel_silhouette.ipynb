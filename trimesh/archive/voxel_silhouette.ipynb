{
 "cells": [
  {
   "cell_type": "code",
   "execution_count": 2,
   "metadata": {},
   "outputs": [],
   "source": [
    "import os\n",
    "\n",
    "import numpy as np\n",
    "from PIL import Image\n",
    "import matplotlib.pyplot as plt\n",
    "\n",
    "import trimesh"
   ]
  },
  {
   "cell_type": "code",
   "execution_count": 3,
   "metadata": {},
   "outputs": [],
   "source": [
    "\n",
    "\n",
    "\n",
    "def vis(image, sil):\n",
    "    # separate function to delay plt import\n",
    "\n",
    "    _, (ax0, ax1, ax2) = plt.subplots(1, 3)\n",
    "    ax0.imshow(image)\n",
    "    ax1.imshow(sil)\n",
    "    sil_image = image.copy()\n",
    "    sil_image[np.logical_not(sil)] = 0\n",
    "    ax2.imshow(sil_image)\n",
    "    plt.show()\n",
    "\n",
    "\n"
   ]
  },
  {
   "cell_type": "code",
   "execution_count": 5,
   "metadata": {},
   "outputs": [
    {
     "name": "stdout",
     "output_type": "stream",
     "text": [
      "z range: 0.185099, 0.305312\n"
     ]
    },
    {
     "ename": "ImportError",
     "evalue": "`trimesh.viewer.windowed` requires `pip install \"pyglet<2\"`",
     "output_type": "error",
     "traceback": [
      "\u001b[1;31m---------------------------------------------------------------------------\u001b[0m",
      "\u001b[1;31mImportError\u001b[0m                               Traceback (most recent call last)",
      "Cell \u001b[1;32mIn[5], line 35\u001b[0m\n\u001b[0;32m     31\u001b[0m sil \u001b[39m=\u001b[39m np\u001b[39m.\u001b[39many(frust_vox_dense, axis\u001b[39m=\u001b[39m\u001b[39m-\u001b[39m\u001b[39m1\u001b[39m)\n\u001b[0;32m     32\u001b[0m sil \u001b[39m=\u001b[39m sil\u001b[39m.\u001b[39mT  \u001b[39m# change to image ordering (y, x)\u001b[39;00m\n\u001b[0;32m     34\u001b[0m image \u001b[39m=\u001b[39m np\u001b[39m.\u001b[39marray(\n\u001b[1;32m---> 35\u001b[0m     Image\u001b[39m.\u001b[39mopen(trimesh\u001b[39m.\u001b[39mutil\u001b[39m.\u001b[39mwrap_as_stream(scene\u001b[39m.\u001b[39;49msave_image(resolution\u001b[39m=\u001b[39;49m\u001b[39mNone\u001b[39;49;00m)))\n\u001b[0;32m     36\u001b[0m )\n\u001b[0;32m     37\u001b[0m image \u001b[39m=\u001b[39m image[\u001b[39m.\u001b[39m\u001b[39m.\u001b[39m\u001b[39m.\u001b[39m, :\u001b[39m3\u001b[39m]\n\u001b[0;32m     39\u001b[0m vis(image, sil)\n",
      "File \u001b[1;32mc:\\Users\\bobls\\miniconda3\\envs\\pytorch22\\lib\\site-packages\\trimesh\\scene\\scene.py:952\u001b[0m, in \u001b[0;36mScene.save_image\u001b[1;34m(self, resolution, **kwargs)\u001b[0m\n\u001b[0;32m    936\u001b[0m \u001b[39mdef\u001b[39;00m \u001b[39msave_image\u001b[39m(\u001b[39mself\u001b[39m, resolution\u001b[39m=\u001b[39m\u001b[39mNone\u001b[39;00m, \u001b[39m*\u001b[39m\u001b[39m*\u001b[39mkwargs):\n\u001b[0;32m    937\u001b[0m     \u001b[39m\"\"\"\u001b[39;00m\n\u001b[0;32m    938\u001b[0m \u001b[39m    Get a PNG image of a scene.\u001b[39;00m\n\u001b[0;32m    939\u001b[0m \n\u001b[1;32m   (...)\u001b[0m\n\u001b[0;32m    950\u001b[0m \u001b[39m      Render of scene as a PNG\u001b[39;00m\n\u001b[0;32m    951\u001b[0m \u001b[39m    \"\"\"\u001b[39;00m\n\u001b[1;32m--> 952\u001b[0m     \u001b[39mfrom\u001b[39;00m \u001b[39m.\u001b[39;00m\u001b[39m.\u001b[39;00m\u001b[39mviewer\u001b[39;00m\u001b[39m.\u001b[39;00m\u001b[39mwindowed\u001b[39;00m \u001b[39mimport\u001b[39;00m render_scene\n\u001b[0;32m    954\u001b[0m     png \u001b[39m=\u001b[39m render_scene(scene\u001b[39m=\u001b[39m\u001b[39mself\u001b[39m, resolution\u001b[39m=\u001b[39mresolution, \u001b[39m*\u001b[39m\u001b[39m*\u001b[39mkwargs)\n\u001b[0;32m    955\u001b[0m     \u001b[39mreturn\u001b[39;00m png\n",
      "File \u001b[1;32mc:\\Users\\bobls\\miniconda3\\envs\\pytorch22\\lib\\site-packages\\trimesh\\viewer\\windowed.py:20\u001b[0m\n\u001b[0;32m     15\u001b[0m \u001b[39m# pyglet 2.0 is close to a re-write moving from fixed-function\u001b[39;00m\n\u001b[0;32m     16\u001b[0m \u001b[39m# to shaders and we will likely support it by forking an entirely\u001b[39;00m\n\u001b[0;32m     17\u001b[0m \u001b[39m# new viewer `trimesh.viewer.shaders` and then basically keeping\u001b[39;00m\n\u001b[0;32m     18\u001b[0m \u001b[39m# `windowed` around for backwards-compatibility with no changes\u001b[39;00m\n\u001b[0;32m     19\u001b[0m \u001b[39mif\u001b[39;00m \u001b[39mint\u001b[39m(pyglet\u001b[39m.\u001b[39mversion\u001b[39m.\u001b[39msplit(\u001b[39m\"\u001b[39m\u001b[39m.\u001b[39m\u001b[39m\"\u001b[39m)[\u001b[39m0\u001b[39m]) \u001b[39m>\u001b[39m\u001b[39m=\u001b[39m \u001b[39m2\u001b[39m:\n\u001b[1;32m---> 20\u001b[0m     \u001b[39mraise\u001b[39;00m \u001b[39mImportError\u001b[39;00m(\u001b[39m'\u001b[39m\u001b[39m`trimesh.viewer.windowed` requires `pip install \u001b[39m\u001b[39m\"\u001b[39m\u001b[39mpyglet<2\u001b[39m\u001b[39m\"\u001b[39m\u001b[39m`\u001b[39m\u001b[39m'\u001b[39m)\n\u001b[0;32m     22\u001b[0m \u001b[39mfrom\u001b[39;00m \u001b[39m.\u001b[39;00m\u001b[39m.\u001b[39;00m \u001b[39mimport\u001b[39;00m rendering, util\n\u001b[0;32m     23\u001b[0m \u001b[39mfrom\u001b[39;00m \u001b[39m.\u001b[39;00m\u001b[39m.\u001b[39;00m\u001b[39mtransformations\u001b[39;00m \u001b[39mimport\u001b[39;00m translation_matrix\n",
      "\u001b[1;31mImportError\u001b[0m: `trimesh.viewer.windowed` requires `pip install \"pyglet<2\"`"
     ]
    }
   ],
   "source": [
    "\n",
    "resolution = 256\n",
    "fov = 60.0\n",
    "path = os.path.realpath(\n",
    "    os.path.join(\"..\", \"models\", \"bunny.ply\")\n",
    ")\n",
    "\n",
    "mesh = trimesh.load(path)\n",
    "scene = mesh.scene()\n",
    "camera = scene.camera\n",
    "\n",
    "camera.fov = (fov,) * 2\n",
    "camera.resolution = (resolution,) * 2\n",
    "\n",
    "origins, rays, px = scene.camera_rays()\n",
    "origin = origins[0]\n",
    "rays = rays.reshape((resolution, resolution, 3))\n",
    "offset = mesh.vertices - origin\n",
    "\n",
    "# dists is vertices projected onto central ray\n",
    "dists = np.dot(offset, rays[rays.shape[0] // 2, rays.shape[1] // 2])\n",
    "closest = np.min(dists)\n",
    "farthest = np.max(dists)\n",
    "z = np.linspace(closest, farthest, resolution)\n",
    "print(f\"z range: {closest:f}, {farthest:f}\")\n",
    "\n",
    "vox = mesh.voxelized(1.0 / resolution, method=\"binvox\", binvox_path='C:\\\\Users\\\\bobls\\\\Downloads\\\\binvox.exe')\n",
    "\n",
    "coords = np.expand_dims(rays, axis=-2) * np.expand_dims(z, axis=-1)\n",
    "coords += origin\n",
    "frust_vox_dense = vox.is_filled(coords)\n",
    "sil = np.any(frust_vox_dense, axis=-1)\n",
    "sil = sil.T  # change to image ordering (y, x)\n",
    "\n",
    "image = np.array(\n",
    "    Image.open(trimesh.util.wrap_as_stream(scene.save_image(resolution=None)))\n",
    ")\n",
    "image = image[..., :3]\n",
    "\n",
    "vis(image, sil)"
   ]
  },
  {
   "cell_type": "code",
   "execution_count": null,
   "metadata": {},
   "outputs": [],
   "source": []
  }
 ],
 "metadata": {
  "kernelspec": {
   "display_name": "pytorch22",
   "language": "python",
   "name": "python3"
  },
  "language_info": {
   "codemirror_mode": {
    "name": "ipython",
    "version": 3
   },
   "file_extension": ".py",
   "mimetype": "text/x-python",
   "name": "python",
   "nbconvert_exporter": "python",
   "pygments_lexer": "ipython3",
   "version": "3.10.8"
  },
  "orig_nbformat": 4
 },
 "nbformat": 4,
 "nbformat_minor": 2
}
