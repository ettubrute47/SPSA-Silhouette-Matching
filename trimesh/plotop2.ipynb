{
 "cells": [
  {
   "cell_type": "code",
   "execution_count": 1,
   "metadata": {},
   "outputs": [],
   "source": [
    "import matplotlib.pyplot as plt\n",
    "\n",
    "import numpy as np\n",
    "from plotoptix import NpOptiX"
   ]
  },
  {
   "cell_type": "code",
   "execution_count": 2,
   "metadata": {},
   "outputs": [],
   "source": [
    "width = 400\n",
    "height = 300\n",
    "\n",
    "def update_image(rt: NpOptiX) -> None:\n",
    "    points_id = rt.geometry_data[\"points\"]._handle\n",
    "    f = rt._geo_id[:,:,0].reshape(rt._height, rt._width)\n",
    "    f &= 0x3FFFFFFF # remove the vertex id info (bits 30 and 31)\n",
    "    visible = f == points_id\n",
    "    invisible = (f != points_id) * (f < 0x3FFFFFFF)\n",
    "    empty = f == 0x3FFFFFFF\n",
    "    f[visible] = 2\n",
    "    f[invisible] = 1\n",
    "    f[empty] = 0\n",
    "    img.set_data(f)\n",
    "    img.set_clim(vmin=0, vmax=2)\n",
    "    plt.draw()"
   ]
  },
  {
   "cell_type": "code",
   "execution_count": 3,
   "metadata": {},
   "outputs": [],
   "source": [
    "\n",
    "\n",
    "rt = NpOptiX(on_launch_finished=update_image, width=width, height=height, start_now=False, devices=[0])\n",
    "\n",
    "# NOTE: no need for multiple passes, set up just 1 pass:\n",
    "rt.set_param(min_accumulation_step=1, max_accumulation_frames=1)\n",
    "\n",
    "from plotoptix.materials import m_flat\n",
    "\n",
    "rt.setup_material(\"flat\", m_flat)\n",
    "\n",
    "rt.load_mesh_obj(\"../models/utah-teapot-1.obj\", mat=\"flat\")"
   ]
  },
  {
   "cell_type": "code",
   "execution_count": 4,
   "metadata": {},
   "outputs": [],
   "source": [
    "u = np.linspace(-50, 50, width)\n",
    "v = np.linspace(50, -50, height)\n",
    "V, U = np.meshgrid(v, u)\n",
    "\n",
    "xyz = np.stack((U, V, np.full((width, height), -15))).T\n",
    "\n",
    "# optionally randomize positions - to see that rays really can follow set of irregular directions\n",
    "xyz += 0.2 * np.random.rand(height, width, 3)\n",
    "\n",
    "rt.set_data(\"points\", xyz, r=0.1, mat=\"flat\")\n",
    "\n",
    "fov = 45 # field of view (vertical), in degrees\n",
    "\n",
    "# equirectangular projection\n",
    "a_ratio = width / height\n",
    "u = np.linspace(-0.5 * a_ratio * fov / 180, 0.5 * a_ratio * fov / 180, width)\n",
    "v = np.linspace(0.5 * fov / 180, -0.5 * fov / 180, height)\n",
    "\n",
    "V, U = np.meshgrid(v, u)\n",
    "\n",
    "fi_tex = np.stack((U, V)).T\n",
    "\n",
    "rt.set_texture_2d(\"fi_tex\", fi_tex)\n",
    "\n",
    "eye = np.array([20.0, 50.0, 100.0])\n",
    "target = np.array([0.0, 0.0, 0.0])\n",
    "up = np.array([0.0, 1.0, 0.0])\n",
    "rt.setup_camera(\"cam1\", cam_type=\"CustomProj\",\n",
    "                eye=eye, target=target, up=up,\n",
    "                textures=[\"fi_tex\"])\n",
    "\n"
   ]
  },
  {
   "cell_type": "code",
   "execution_count": 9,
   "metadata": {},
   "outputs": [
    {
     "data": {
      "image/png": "[encoded data removed]",
      "text/plain": [
       "<Figure size 640x480 with 1 Axes>"
      ]
     },
     "metadata": {},
     "output_type": "display_data"
    }
   ],
   "source": [
    "plt.figure(1)\n",
    "img = plt.imshow(np.zeros((height,width,4)), cmap=plt.get_cmap(\"gnuplot\"))\n",
    "plt.tight_layout()\n",
    "plt.show()"
   ]
  },
  {
   "cell_type": "code",
   "execution_count": 6,
   "metadata": {},
   "outputs": [],
   "source": [
    "rt.start()"
   ]
  },
  {
   "cell_type": "code",
   "execution_count": 7,
   "metadata": {},
   "outputs": [
    {
     "data": {
      "text/plain": [
       "<Figure size 640x480 with 0 Axes>"
      ]
     },
     "metadata": {},
     "output_type": "display_data"
    }
   ],
   "source": [
    "forward = target - eye\n",
    "forward /= np.linalg.norm(forward)\n",
    "\n",
    "up -= np.dot(forward, up) * forward\n",
    "up /= np.linalg.norm(up)\n",
    "\n",
    "right = np.cross(forward, up)\n",
    "\n",
    "# not so pythonic, but instead very explicit math:\n",
    "fi_tex2 = np.zeros((height, width, 2))\n",
    "for iv in range(height):\n",
    "    for iu in range(width):\n",
    "        p = xyz[iv,iu] - eye\n",
    "        \n",
    "        pn = np.dot(p, right) * right\n",
    "        pv = p - pn                         # eye->point vector projected on the camera \"vertical\" plane\n",
    "        cv = np.dot(forward, pv/np.linalg.norm(pv))\n",
    "        v = np.arccos(cv) * np.sign(np.dot(pv, up))\n",
    "        \n",
    "        pn = np.dot(p, up) * up\n",
    "        pu = p - pn                         # eye->point vector projected on the camera \"horizontal\" plane\n",
    "        cu = np.dot(forward, pu/np.linalg.norm(pu))\n",
    "        u = np.arccos(cu) * np.sign(np.dot(pu, right))\n",
    "        \n",
    "        fi_tex2[iv,iu,0] = u\n",
    "        fi_tex2[iv,iu,1] = v\n",
    "\n",
    "fi_tex2 *= 1.0/np.pi"
   ]
  },
  {
   "cell_type": "code",
   "execution_count": 8,
   "metadata": {},
   "outputs": [],
   "source": [
    "rt.set_texture_2d(\"fi_tex\", fi_tex2, refresh=True)"
   ]
  },
  {
   "cell_type": "code",
   "execution_count": 14,
   "metadata": {},
   "outputs": [],
   "source": [
    "rt.close()"
   ]
  },
  {
   "cell_type": "code",
   "execution_count": null,
   "metadata": {},
   "outputs": [],
   "source": []
  }
 ],
 "metadata": {
  "kernelspec": {
   "display_name": "plotoptix",
   "language": "python",
   "name": "python3"
  },
  "language_info": {
   "codemirror_mode": {
    "name": "ipython",
    "version": 3
   },
   "file_extension": ".py",
   "mimetype": "text/x-python",
   "name": "python",
   "nbconvert_exporter": "python",
   "pygments_lexer": "ipython3",
   "version": "3.10.13"
  },
  "orig_nbformat": 4
 },
 "nbformat": 4,
 "nbformat_minor": 2
}
