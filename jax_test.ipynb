{
 "cells": [
  {
   "cell_type": "code",
   "execution_count": 28,
   "metadata": {},
   "outputs": [
    {
     "name": "stdout",
     "output_type": "stream",
     "text": [
      "Optimal w: [3.90170816 1.94714189 1.29394929 0.96609563 0.76837158 0.63571264\n",
      " 0.54024345 0.46804008 0.41138495 0.36566854]\n"
     ]
    }
   ],
   "source": [
    "import jax\n",
    "import jax.numpy as jnp\n",
    "from jax.config import config\n",
    "config.update(\"jax_enable_x64\", True)\n",
    "\n",
    "# Define the loss function: L(w) = w^2 + 3w + 2\n",
    "def loss_function(theta):\n",
    "    return theta @ jnp.arange(1, len(theta) + 1) + jnp.prod(1/theta)\n",
    "\n",
    "# Define a gradient function using JAX's grad function\n",
    "grad_loss = jax.grad(loss_function)\n",
    "\n",
    "# Initialize w\n",
    "P = 10\n",
    "w = jnp.ones(P)\n",
    "\n",
    "# Learning rate\n",
    "lr = 0.02\n",
    "\n",
    "# Gradient descent\n",
    "for step in range(2000):\n",
    "    # Compute gradient\n",
    "    gradient = grad_loss(w)\n",
    "    \n",
    "    # Update w using gradient descent\n",
    "    w -= lr * gradient\n",
    "\n",
    "print(f\"Optimal w: {w}\")\n"
   ]
  },
  {
   "cell_type": "code",
   "execution_count": 30,
   "metadata": {},
   "outputs": [
    {
     "data": {
      "text/plain": [
       "Array(0.3213532, dtype=float64)"
      ]
     },
     "execution_count": 30,
     "metadata": {},
     "output_type": "execute_result"
    }
   ],
   "source": [
    "loss_function(w) - 43.42939082580404"
   ]
  },
  {
   "cell_type": "code",
   "execution_count": null,
   "metadata": {},
   "outputs": [],
   "source": []
  }
 ],
 "metadata": {
  "kernelspec": {
   "display_name": "pytorch22",
   "language": "python",
   "name": "python3"
  },
  "language_info": {
   "codemirror_mode": {
    "name": "ipython",
    "version": 3
   },
   "file_extension": ".py",
   "mimetype": "text/x-python",
   "name": "python",
   "nbconvert_exporter": "python",
   "pygments_lexer": "ipython3",
   "version": "3.10.8"
  },
  "orig_nbformat": 4
 },
 "nbformat": 4,
 "nbformat_minor": 2
}
