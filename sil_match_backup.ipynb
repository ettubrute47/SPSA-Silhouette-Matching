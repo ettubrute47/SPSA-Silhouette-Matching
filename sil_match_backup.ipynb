{
 "cells": [
  {
   "cell_type": "code",
   "execution_count": 101,
   "metadata": {},
   "outputs": [],
   "source": [
    "from functools import partial\n",
    "\n",
    "import numpy as np\n",
    "import PIL\n",
    "import matplotlib.pyplot as plt\n",
    "import trimesh\n",
    "from trimesh import Scene\n",
    "\n",
    "from matplotlib.animation import FuncAnimation\n",
    "from IPython.display import HTML"
   ]
  },
  {
   "cell_type": "code",
   "execution_count": 9,
   "metadata": {},
   "outputs": [],
   "source": [
    "\n",
    "\n",
    "test = np.array([1, 1, 1, 2])\n",
    "drws = np.random.rand(4, 1000) < 0.5"
   ]
  },
  {
   "cell_type": "code",
   "execution_count": 11,
   "metadata": {},
   "outputs": [],
   "source": [
    "res = np.broadcast_to(np.atleast_2d(test), drws.T.shape) * drws.T"
   ]
  },
  {
   "cell_type": "code",
   "execution_count": 17,
   "metadata": {},
   "outputs": [
    {
     "data": {
      "text/plain": [
       "0.513"
      ]
     },
     "execution_count": 17,
     "metadata": {},
     "output_type": "execute_result"
    }
   ],
   "source": [
    "np.any(res == 2, axis=1).mean()"
   ]
  },
  {
   "cell_type": "code",
   "execution_count": 49,
   "metadata": {},
   "outputs": [],
   "source": [
    "\n",
    "\n",
    "test = np.array([1, 1, 1, 2, 2, 2] * 3)\n",
    "drws = np.random.rand(test.shape[0], 50_000) < 0.1\n",
    "res = np.broadcast_to(np.atleast_2d(test), drws.T.shape) * drws.T"
   ]
  },
  {
   "cell_type": "markdown",
   "metadata": {},
   "source": [
    "In reality its more of 'can I pick up there is a difference between these two?"
   ]
  },
  {
   "cell_type": "code",
   "execution_count": 50,
   "metadata": {},
   "outputs": [
    {
     "data": {
      "text/plain": [
       "array([[0, 0, 0, ..., 0, 0, 0],\n",
       "       [0, 0, 0, ..., 0, 0, 0],\n",
       "       [0, 0, 0, ..., 0, 0, 0],\n",
       "       ...,\n",
       "       [0, 0, 0, ..., 0, 0, 0],\n",
       "       [0, 0, 0, ..., 0, 0, 0],\n",
       "       [0, 0, 0, ..., 2, 0, 0]])"
      ]
     },
     "execution_count": 50,
     "metadata": {},
     "output_type": "execute_result"
    }
   ],
   "source": [
    "res"
   ]
  },
  {
   "cell_type": "code",
   "execution_count": 51,
   "metadata": {},
   "outputs": [
    {
     "data": {
      "text/plain": [
       "0.22424"
      ]
     },
     "execution_count": 51,
     "metadata": {},
     "output_type": "execute_result"
    }
   ],
   "source": [
    "((res.sum(axis=1) % 3 == 0) * (res.sum(axis=1) > 0)).mean()"
   ]
  },
  {
   "cell_type": "code",
   "execution_count": 52,
   "metadata": {},
   "outputs": [
    {
     "data": {
      "text/plain": [
       "0.09844"
      ]
     },
     "execution_count": 52,
     "metadata": {},
     "output_type": "execute_result"
    }
   ],
   "source": [
    "(res[:,-1] > 0).mean()"
   ]
  },
  {
   "cell_type": "code",
   "execution_count": 53,
   "metadata": {},
   "outputs": [],
   "source": [
    "test = np.array([1, 1, 1, 1, 1, 2] * 2)\n",
    "drws = np.random.rand(test.shape[0], 50_000) < 0.1\n",
    "res = np.broadcast_to(np.atleast_2d(test), drws.T.shape) * drws.T"
   ]
  },
  {
   "cell_type": "code",
   "execution_count": 93,
   "metadata": {},
   "outputs": [],
   "source": [
    "test = np.array([1, 1, 1, 2, 2, 2] * 4)\n",
    "drws = np.random.rand(test.shape[0], 100_000) < 0.1\n",
    "res1 = np.broadcast_to(np.atleast_2d(test), drws.T.shape) * drws.T\n",
    "test2 = np.array([1, 1, 1, 1, 2, 2] * 4)\n",
    "drws2 = np.random.rand(test2.shape[0], 100_000) < 0.1\n",
    "res2 = np.broadcast_to(np.atleast_2d(test2), drws2.T.shape) * drws2.T"
   ]
  },
  {
   "cell_type": "code",
   "execution_count": 94,
   "metadata": {},
   "outputs": [
    {
     "data": {
      "text/plain": [
       "0.48394"
      ]
     },
     "execution_count": 94,
     "metadata": {},
     "output_type": "execute_result"
    }
   ],
   "source": [
    "(res1.mean(axis=1) > res2.mean(axis=1)).mean()"
   ]
  },
  {
   "cell_type": "code",
   "execution_count": 91,
   "metadata": {},
   "outputs": [],
   "source": [
    "test = np.array([1, 1, 1, 1, 1, 2] * 4)\n",
    "drws = np.random.rand(test.shape[0], 100_000) < 0.1\n",
    "res1 = np.broadcast_to(np.atleast_2d(test), drws.T.shape) * drws.T\n",
    "test2 = np.array([1, 1, 1, 1, 1, 1] * 4)\n",
    "drws2 = np.random.rand(test2.shape[0], 100_000) < 0.1\n",
    "res2 = np.broadcast_to(np.atleast_2d(test2), drws2.T.shape) * drws2.T"
   ]
  },
  {
   "cell_type": "code",
   "execution_count": 92,
   "metadata": {},
   "outputs": [
    {
     "data": {
      "text/plain": [
       "0.47251"
      ]
     },
     "execution_count": 92,
     "metadata": {},
     "output_type": "execute_result"
    }
   ],
   "source": [
    "(res1.mean(axis=1) > res2.mean(axis=1)).mean()"
   ]
  },
  {
   "cell_type": "code",
   "execution_count": 96,
   "metadata": {},
   "outputs": [
    {
     "data": {
      "text/plain": [
       "<trimesh.Trimesh(vertices.shape=(8146, 3), faces.shape=(16301, 3))>"
      ]
     },
     "execution_count": 96,
     "metadata": {},
     "output_type": "execute_result"
    }
   ],
   "source": [
    "\n",
    "mesh = trimesh.load(\"../models/bunny.ply\")\n",
    "\n",
    "# Normalize the mesh using trimesh functionality\n",
    "mesh.apply_translation(-mesh.centroid)\n",
    "scale_factor = 1.0 / mesh.extents.max()\n",
    "mesh.apply_scale(scale_factor)\n"
   ]
  },
  {
   "cell_type": "code",
   "execution_count": 105,
   "metadata": {},
   "outputs": [
    {
     "data": {
      "text/plain": [
       "<matplotlib.image.AxesImage at 0x22356db95b0>"
      ]
     },
     "execution_count": 105,
     "metadata": {},
     "output_type": "execute_result"
    },
    {
     "data": {
      "image/png": "[encoded data removed]",
      "text/plain": [
       "<Figure size 432x288 with 1 Axes>"
      ]
     },
     "metadata": {
      "needs_background": "light"
     },
     "output_type": "display_data"
    }
   ],
   "source": [
    "\n",
    "def get_transformed_scene(mesh, rotation_transform, translation_vector) -> Scene:\n",
    "    transformed = mesh.copy()\n",
    "    transformed.apply_transform(rotation_transform)\n",
    "    # transformed.apply_translation(translation_vector)\n",
    "    # tt = transformed.apply_obb()  # i guess it works..\n",
    "    scene = Scene()\n",
    "    scene.add_geometry(transformed, geom_name=\"mesh\") #, transform=transformation_matrix)\n",
    "    scene.apply_translation(translation_vector)\n",
    "    scene.camera.resolution = [640, 480]\n",
    "    # set field of view, in degrees\n",
    "    # make it relative to resolution so pixels per degree is same\n",
    "    scene.camera.fov = [\n",
    "        60,\n",
    "        60,\n",
    "    ]  # * (scene.camera.resolution / scene.camera.resolution.max())\n",
    "    return scene\n",
    "\n",
    "\n",
    "def raytrace_silhouette_precomputed(scene: Scene, vectors, pixels, perc=0.5):\n",
    "    # any of the automatically generated values can be overridden\n",
    "    # set resolution, in pixels\n",
    "    msk = np.random.rand(*scene.camera.resolution) < perc\n",
    "\n",
    "    origin = np.broadcast_to(trimesh.transformations.translation_from_matrix(scene.camera_transform), vectors.shape)\n",
    "\n",
    "    # run the mesh- ray test\n",
    "    points, index_ray, index_tri = scene.geometry[\"mesh\"].ray.intersects_location(\n",
    "        ray_origins=origin[msk.flat], ray_directions=vectors[msk.flat], multiple_hits=False\n",
    "    )\n",
    "\n",
    "    # find pixel locations of actual hits\n",
    "    sub_pixels = pixels[msk.flat]\n",
    "    pixel_ray = sub_pixels[index_ray]\n",
    "\n",
    "    # create a numpy array we can turn into an image\n",
    "    # doing it with uint8 creates an `L` mode greyscale image\n",
    "    a = np.zeros(scene.camera.resolution, dtype=np.uint8)\n",
    "    a[sub_pixels[:, 0], sub_pixels[:, 1]] = 1\n",
    "    a[pixel_ray[:, 0], pixel_ray[:, 1]] = 2\n",
    "    return a\n",
    "\n",
    "# the problem is that the rays are computed before translation...\n",
    "scene = get_transformed_scene(mesh, trimesh.transformations.euler_matrix(*[0, 0, 0]), [0, 0, 0])\n",
    "\n",
    "# convert the camera to rays with one ray per pixel\n",
    "origin, vectors, pixels = scene.camera_rays()\n",
    "raytrace_silhouette = partial(raytrace_silhouette_precomputed, vectors=vectors, pixels=pixels)\n",
    "\n",
    "sil = raytrace_silhouette(scene)\n",
    "\n",
    "plt.imshow(sil == 2)"
   ]
  },
  {
   "cell_type": "code",
   "execution_count": 100,
   "metadata": {},
   "outputs": [],
   "source": [
    "## jacaards index for comparing two incomplete masks:\n",
    "def stochastic_jacaard_index(m1: np.ndarray, m2: np.ndarray):\n",
    "    \"\"\"Where 2 means positive, 1 means negative, and 0 means not measured/unknown, I / U should only consider knowns\"\"\"\n",
    "    m1_pos = m1 == 2\n",
    "    m2_pos = m2 == 2\n",
    "    m1_neg = m1 == 1\n",
    "    m2_neg = m2 == 1\n",
    "    count_agree_pos = (m1_pos & m2_pos).sum()  # intersection\n",
    "    count_pos = (m1_pos & m2_neg).sum() + (m1_neg & m2_pos).sum() + count_agree_pos\n",
    "    if count_pos == 0:\n",
    "        return 0\n",
    "    return count_agree_pos / count_pos"
   ]
  },
  {
   "cell_type": "code",
   "execution_count": 108,
   "metadata": {},
   "outputs": [
    {
     "data": {
      "text/plain": [
       "<matplotlib.image.AxesImage at 0x2235a149b50>"
      ]
     },
     "execution_count": 108,
     "metadata": {},
     "output_type": "execute_result"
    },
    {
     "data": {
      "image/png": "[encoded data removed]",
      "text/plain": [
       "<Figure size 432x288 with 1 Axes>"
      ]
     },
     "metadata": {
      "needs_background": "light"
     },
     "output_type": "display_data"
    }
   ],
   "source": [
    "\n",
    "\n",
    "true_rotation = np.array([1, 0, 1])  # np.random.rand(3) * 2 * np.pi\n",
    "true_translation = np.array([1, 1, 5])\n",
    "\n",
    "scene = get_transformed_scene(mesh, trimesh.transformations.euler_matrix(*true_rotation), true_translation)\n",
    "true_sil = raytrace_silhouette(scene, perc=1)\n",
    "\n",
    "plt.imshow(true_sil == 2)"
   ]
  },
  {
   "cell_type": "code",
   "execution_count": 110,
   "metadata": {},
   "outputs": [
    {
     "name": "stdout",
     "output_type": "stream",
     "text": [
      "1.0\n"
     ]
    },
    {
     "data": {
      "text/plain": [
       "<matplotlib.image.AxesImage at 0x2235a1af850>"
      ]
     },
     "execution_count": 110,
     "metadata": {},
     "output_type": "execute_result"
    },
    {
     "data": {
      "image/png": "[encoded data removed]",
      "text/plain": [
       "<Figure size 432x288 with 1 Axes>"
      ]
     },
     "metadata": {
      "needs_background": "light"
     },
     "output_type": "display_data"
    }
   ],
   "source": [
    "test_sil = raytrace_silhouette(scene, perc=.25)\n",
    "print(stochastic_jacaard_index(test_sil, true_sil))\n",
    "plt.imshow(test_sil == 2)"
   ]
  },
  {
   "cell_type": "code",
   "execution_count": 112,
   "metadata": {},
   "outputs": [
    {
     "name": "stdout",
     "output_type": "stream",
     "text": [
      "0.5154979674796748\n"
     ]
    },
    {
     "data": {
      "text/plain": [
       "<matplotlib.image.AxesImage at 0x2235a2b1520>"
      ]
     },
     "execution_count": 112,
     "metadata": {},
     "output_type": "execute_result"
    },
    {
     "data": {
      "image/png": "[encoded data removed]",
      "text/plain": [
       "<Figure size 432x288 with 1 Axes>"
      ]
     },
     "metadata": {
      "needs_background": "light"
     },
     "output_type": "display_data"
    }
   ],
   "source": [
    "\n",
    "rotation = true_rotation + np.array([.2, .1, .2])\n",
    "translation = true_translation + np.array([.3, 0.2, 1])\n",
    "\n",
    "scene = get_transformed_scene(mesh, trimesh.transformations.euler_matrix(*rotation), translation)\n",
    "sil = raytrace_silhouette(scene, perc=1)\n",
    "\n",
    "print(stochastic_jacaard_index(true_sil, sil))\n",
    "  \n",
    "plt.imshow(sil + true_sil)"
   ]
  },
  {
   "cell_type": "markdown",
   "metadata": {},
   "source": [
    "Now I need $\\theta$ to define the configuration of the object and $L(\\theta)$ to be loss from it\n"
   ]
  },
  {
   "cell_type": "code",
   "execution_count": 115,
   "metadata": {},
   "outputs": [
    {
     "data": {
      "text/plain": [
       "-0.08076135664445827"
      ]
     },
     "execution_count": 115,
     "metadata": {},
     "output_type": "execute_result"
    }
   ],
   "source": [
    "def get_scene_from_theta(theta: np.ndarray):\n",
    "    # theta is rotation matrix, and translation matrix\n",
    "    rotation = theta[:3]\n",
    "    translation = theta[3:]\n",
    "    rotation_matrix = trimesh.transformations.euler_matrix(*rotation)\n",
    "    return get_transformed_scene(mesh, rotation_matrix, translation)\n",
    "\n",
    "def get_loss_from_theta(theta: np.ndarray, perc=0.5):\n",
    "    scene = get_scene_from_theta(theta)\n",
    "    sil = raytrace_silhouette(scene, perc=perc)\n",
    "    js = stochastic_jacaard_index(true_sil, sil)\n",
    "    js = np.clip(js, 0.00001, 0.99999)\n",
    "    log_odds = np.log(1 - js) - np.log(js)\n",
    "    return log_odds\n",
    "\n",
    "theta_0 = np.append(rotation, translation)\n",
    "get_loss_from_theta(theta_0)\n"
   ]
  },
  {
   "cell_type": "code",
   "execution_count": 114,
   "metadata": {},
   "outputs": [
    {
     "data": {
      "text/plain": [
       "-11.51291546492478"
      ]
     },
     "execution_count": 114,
     "metadata": {},
     "output_type": "execute_result"
    }
   ],
   "source": [
    "\n",
    "theta_opt = np.append(true_rotation, true_translation)\n",
    "get_loss_from_theta(theta_opt)"
   ]
  },
  {
   "cell_type": "code",
   "execution_count": 119,
   "metadata": {},
   "outputs": [],
   "source": [
    "def ak_gain(k, a0=1e-2, A=1000, alpha=0.602):\n",
    "    \"\"\"Rule of thumb, A ~ <=10% max iterations expected\n",
    "    a0 to be smallest of desired changes among theta early on\"\"\"\n",
    "    a = a0 * (1 + A) ** alpha\n",
    "    return a / (k + 1 + A) ** alpha\n",
    "\n",
    "\n",
    "def ck_gain(k, c=1e-2, gamma=0.101):\n",
    "    \"\"\"Rule of thumb, c ~ std loss noise (e in y = L + e)\"\"\"\n",
    "    return c / (k + 1) ** gamma\n",
    "\n",
    "\n",
    "def bernouli_sample(p):\n",
    "    while True:\n",
    "        proba = np.random.rand(p)\n",
    "        values = (proba < 0.5).astype(int) * 2 - 1\n",
    "        yield values\n",
    "\n",
    "\n",
    "def approx_gradient(loss, perturb, theta, c):\n",
    "    # SPSA\n",
    "    diff = loss(theta + c * perturb) - loss(theta - c * perturb)\n",
    "    return (diff / (2 * c)) / perturb\n",
    "\n",
    "\n",
    "def optim_spsa(theta_0, loss_fnc, ak_gen, ck_gen, max_theta_diff=0.05):\n",
    "    theta = theta_0\n",
    "    P = len(theta)\n",
    "    k = 0\n",
    "    for k, perturb in enumerate(bernouli_sample(P)):\n",
    "        ak = ak_gen(k)\n",
    "        ck = ck_gen(k)\n",
    "        grad = approx_gradient(loss_fnc, perturb, theta, ck)\n",
    "        theta_diff = ak * grad\n",
    "        theta_diff_mag = np.sqrt(theta_diff @ theta_diff)\n",
    "        if theta_diff_mag > max_theta_diff:\n",
    "            theta_diff *= max_theta_diff / theta_diff_mag\n",
    "        theta = theta - theta_diff\n",
    "        yield theta\n",
    "\n",
    "optim = optim_spsa(np.array(theta_0), get_loss_from_theta, ak_gain, ck_gain)"
   ]
  },
  {
   "cell_type": "code",
   "execution_count": 120,
   "metadata": {},
   "outputs": [
    {
     "name": "stdout",
     "output_type": "stream",
     "text": [
      "0: -0.10810099421592956\n",
      "10: -0.3223784735453532\n",
      "20: -0.35023347713791586\n",
      "30: -0.5003037010138649\n",
      "40: -0.5424991312838892\n",
      "50: -0.49643688631389093\n",
      "60: -0.8535966625352318\n",
      "70: -0.9940073453922813\n",
      "80: -0.9565444267469743\n",
      "90: -1.2196263449059395\n"
     ]
    }
   ],
   "source": [
    "for i, theta in zip(range(100), optim):\n",
    "    if i % 10 == 0:\n",
    "        print(f\"{i}: {get_loss_from_theta(theta)}\")"
   ]
  },
  {
   "cell_type": "code",
   "execution_count": 121,
   "metadata": {},
   "outputs": [
    {
     "data": {
      "text/plain": [
       "<matplotlib.image.AxesImage at 0x2235bae6e80>"
      ]
     },
     "execution_count": 121,
     "metadata": {},
     "output_type": "execute_result"
    },
    {
     "data": {
      "image/png": "[encoded data removed]",
      "text/plain": [
       "<Figure size 432x288 with 1 Axes>"
      ]
     },
     "metadata": {
      "needs_background": "light"
     },
     "output_type": "display_data"
    }
   ],
   "source": [
    "scene = get_scene_from_theta(theta)\n",
    "sil = raytrace_silhouette(scene, perc=1)\n",
    "plt.imshow(sil + true_sil)"
   ]
  },
  {
   "cell_type": "code",
   "execution_count": 122,
   "metadata": {},
   "outputs": [
    {
     "name": "stdout",
     "output_type": "stream",
     "text": [
      "0: -1.0971096587835745\n",
      "10: -1.1458651735186551\n",
      "20: -0.9253227979876596\n",
      "30: -0.930419695328171\n",
      "40: -0.965654454992491\n",
      "50: -0.7961239048624955\n",
      "60: -1.1069488280438762\n",
      "70: -1.042668499051339\n",
      "80: -1.1158089741300579\n",
      "90: -1.0277108795688763\n"
     ]
    }
   ],
   "source": [
    "for i, theta in zip(range(100), optim):\n",
    "    if i % 10 == 0:\n",
    "        print(f\"{i}: {get_loss_from_theta(theta)}\")"
   ]
  },
  {
   "cell_type": "code",
   "execution_count": 123,
   "metadata": {},
   "outputs": [
    {
     "data": {
      "text/plain": [
       "<matplotlib.image.AxesImage at 0x2235bab43a0>"
      ]
     },
     "execution_count": 123,
     "metadata": {},
     "output_type": "execute_result"
    },
    {
     "data": {
      "image/png": "[encoded data removed]",
      "text/plain": [
       "<Figure size 432x288 with 1 Axes>"
      ]
     },
     "metadata": {
      "needs_background": "light"
     },
     "output_type": "display_data"
    }
   ],
   "source": [
    "scene = get_scene_from_theta(theta)\n",
    "sil = raytrace_silhouette(scene, perc=1)\n",
    "plt.imshow(sil + true_sil)"
   ]
  },
  {
   "cell_type": "markdown",
   "metadata": {},
   "source": [
    "So it looks like optimization kind of works."
   ]
  },
  {
   "cell_type": "code",
   "execution_count": null,
   "metadata": {},
   "outputs": [],
   "source": []
  }
 ],
 "metadata": {
  "kernelspec": {
   "display_name": "pytorch_cuda",
   "language": "python",
   "name": "python3"
  },
  "language_info": {
   "codemirror_mode": {
    "name": "ipython",
    "version": 3
   },
   "file_extension": ".py",
   "mimetype": "text/x-python",
   "name": "python",
   "nbconvert_exporter": "python",
   "pygments_lexer": "ipython3",
   "version": "3.9.12"
  }
 },
 "nbformat": 4,
 "nbformat_minor": 2
}
