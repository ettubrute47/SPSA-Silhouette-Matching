{
 "cells": [
  {
   "cell_type": "code",
   "execution_count": 1,
   "metadata": {},
   "outputs": [],
   "source": [
    "from collections import ChainMap\n",
    "\n",
    "import numpy as np\n",
    "import json\n",
    "import matplotlib.pyplot as plt\n",
    "import cv2\n",
    "\n",
    "from projection import (generate_cylinder_points, \n",
    "    project_3d_to_2d, \n",
    "    draw_silhouette, \n",
    "    draw_filled_silhouette,\n",
    "    compute_iou,\n",
    "    cv2_imshow,\n",
    "    euler_to_rotation_matrix,\n",
    "    quaternion_to_rotation_matrix,\n",
    "    rotation_matrix_to_euler_angles,\n",
    "    jaccard_index)\n",
    "\n",
    "from optim import optim_spsa, c_gain, a_gain"
   ]
  },
  {
   "cell_type": "code",
   "execution_count": 2,
   "metadata": {},
   "outputs": [
    {
     "data": {
      "image/png": "[encoded data removed]",
      "text/plain": [
       "<Figure size 640x480 with 1 Axes>"
      ]
     },
     "metadata": {},
     "output_type": "display_data"
    }
   ],
   "source": [
    "\n",
    "# Cylinder properties\n",
    "radius = 1\n",
    "height = 2\n",
    "num_points = 50\n",
    "\n",
    "# Camera properties\n",
    "K = np.array([[800, 0, 320], [0, 800, 240], [0, 0, 1]])  # Intrinsic matrix (fx, fy, cx, cy)\n",
    "R = euler_to_rotation_matrix(1.5, 0, 0) # np.eye(3)  # Identity matrix for rotation (no rotation)\n",
    "t = np.array([[0, 0, 15]]).T  # Translation (keeping cylinder 5 units in front of the camera)\n",
    "\n",
    "# Generate 3D cylinder points\n",
    "cylinder_3d = generate_cylinder_points(radius, height, num_points)\n",
    "\n",
    "# Project to 2D\n",
    "cylinder_2d = project_3d_to_2d(cylinder_3d, R, t, K)\n",
    "\n",
    "# Draw silhouette\n",
    "silhouette = draw_filled_silhouette(cylinder_2d, 640, 480)\n",
    "\n",
    "# Display using OpenCV\n",
    "cv2_imshow(silhouette)"
   ]
  },
  {
   "cell_type": "code",
   "execution_count": 3,
   "metadata": {},
   "outputs": [
    {
     "data": {
      "image/png": "[encoded data removed]",
      "text/plain": [
       "<Figure size 640x480 with 1 Axes>"
      ]
     },
     "metadata": {},
     "output_type": "display_data"
    }
   ],
   "source": [
    "\n",
    "class Cylinder:\n",
    "    def __init__(self, K, radius, height, num_points, orientation=None, position=None):\n",
    "        self.K = K\n",
    "        self.radius = radius\n",
    "        self.height = height\n",
    "        self.num_points = num_points\n",
    "        self.orientation = np.array([0, 0, 0], float) if orientation is None else np.asarray(orientation)\n",
    "        self.position = np.array([0, 0, 15]) if position is None else np.asarray(position)\n",
    "        self.cylinder_3d = generate_cylinder_points(radius, height, num_points)\n",
    "        self._R = euler_to_rotation_matrix(*self.orientation)\n",
    "        self._Rkey = self.orientation.copy()\n",
    "\n",
    "        # Camera and scene properties\n",
    "        self.K = K\n",
    "\n",
    "    def copy(self, **kwargs):\n",
    "        return Cylinder(**ChainMap(kwargs, {\"K\": self.K.copy(), \n",
    "                  \"radius\": self.radius, \n",
    "                  \"height\": self.height,\n",
    "                  \"num_points\": self.num_points,\n",
    "                  \"orientation\": self.orientation.copy(),\n",
    "                  \"position\": self.position.copy()}))\n",
    "\n",
    "    @property\n",
    "    def R(self):\n",
    "        if not np.array_equal(self._Rkey, self.orientation):\n",
    "            self._R = euler_to_rotation_matrix(*self.orientation)\n",
    "            self._Rkey = self.orientation.copy()\n",
    "        return self._R\n",
    "    \n",
    "    @property\n",
    "    def translation(self):\n",
    "        p = self.position.copy()\n",
    "        p[1] -= self.height / 2\n",
    "        return  np.array([p]).T\n",
    "\n",
    "    @property\n",
    "    def image_shape(self):\n",
    "        return (int(self.K[0, 2] * 2), int(self.K[1, 2] * 2))\n",
    "\n",
    "    def silhouette(self):\n",
    "        cylinder_2d = project_3d_to_2d(self.cylinder_3d, self.R, self.translation, self.K)\n",
    "        return draw_filled_silhouette(cylinder_2d, *self.image_shape)\n",
    "\n",
    "    def wireframe(self):\n",
    "        cylinder_2d = project_3d_to_2d(self.cylinder_3d, self.R, self.translation, self.K)\n",
    "        return draw_silhouette(cylinder_2d, *self.image_shape)\n",
    "    \n",
    "    def plot(self, filled=False):\n",
    "        mask = self.wireframe() if filled is False else self.silhouette()\n",
    "        cv2_imshow(mask)\n",
    "    \n",
    "K = np.array([[800, 0, 320], [0, 800, 240], [0, 0, 1]])  # Intrinsic matrix (fx, fy, cx, cy)\n",
    "cylinder = Cylinder(K=K, radius=1, height=2, num_points=50)\n",
    "cylinder.orientation[0] += np.pi/2\n",
    "cylinder.position[1] += 4\n",
    "cylinder.plot()\n",
    "cylinder.plot(True)"
   ]
  },
  {
   "cell_type": "code",
   "execution_count": 4,
   "metadata": {},
   "outputs": [],
   "source": [
    "def create_cylinder_from_unity():\n",
    "    with open('cameraData.json', 'r') as f:\n",
    "        data = json.load(f)\n",
    "    \n",
    "    # Extract data\n",
    "    f = data[\"K\"][\"f\"]\n",
    "    aspect_ratio = data[\"K\"][\"aspectRatio\"]\n",
    "    px = data[\"K\"][\"principalPoint\"][\"x\"]\n",
    "    py = data[\"K\"][\"principalPoint\"][\"y\"]\n",
    "    rotation_quaternion = [data[\"R\"][\"x\"], data[\"R\"][\"y\"], data[\"R\"][\"z\"], data[\"R\"][\"w\"]]\n",
    "    t = np.array([data[\"t\"][\"x\"], data[\"t\"][\"y\"], data[\"t\"][\"z\"]])\n",
    "    cylinder_radius = data[\"cylinderDimensions\"][\"cylinderRadius\"]\n",
    "    cylinder_height = data[\"cylinderDimensions\"][\"cylinderHeight\"]\n",
    "\n",
    "    R = quaternion_to_rotation_matrix(rotation_quaternion)\n",
    "    orientation = rotation_matrix_to_euler_angles(R)\n",
    "    \n",
    "    K = np.array([\n",
    "        [f, 0, px],\n",
    "        [0, f * aspect_ratio, py],\n",
    "        [0, 0, 1]\n",
    "    ])\n",
    "    \n",
    "    cylinder = Cylinder(K, cylinder_radius, cylinder_height, 30, np.array(orientation), t)        \n",
    "    cylinder.position[1] *= -1\n",
    "    cylinder.orientation[0] += np.pi / 2\n",
    "    return cylinder"
   ]
  },
  {
   "cell_type": "code",
   "execution_count": 5,
   "metadata": {},
   "outputs": [
    {
     "data": {
      "text/plain": [
       "(2560, 1440)"
      ]
     },
     "execution_count": 5,
     "metadata": {},
     "output_type": "execute_result"
    }
   ],
   "source": [
    "cylinder = create_cylinder_from_unity()\n",
    "cylinder.image_shape"
   ]
  },
  {
   "cell_type": "code",
   "execution_count": 6,
   "metadata": {},
   "outputs": [
    {
     "data": {
      "text/plain": [
       "array([-0.31691837,  2.77999997, 11.0725565 ])"
      ]
     },
     "execution_count": 6,
     "metadata": {},
     "output_type": "execute_result"
    }
   ],
   "source": [
    "cylinder.position"
   ]
  },
  {
   "cell_type": "code",
   "execution_count": 7,
   "metadata": {},
   "outputs": [
    {
     "data": {
      "text/plain": [
       "array([ 1.57079633, -0.        ,  0.        ])"
      ]
     },
     "execution_count": 7,
     "metadata": {},
     "output_type": "execute_result"
    }
   ],
   "source": [
    "cylinder.orientation"
   ]
  },
  {
   "cell_type": "code",
   "execution_count": 7,
   "metadata": {},
   "outputs": [
    {
     "data": {
      "image/png": "[encoded data removed]",
      "text/plain": [
       "<Figure size 640x480 with 1 Axes>"
      ]
     },
     "metadata": {},
     "output_type": "display_data"
    }
   ],
   "source": [
    "cylinder = create_cylinder_from_unity()\n",
    "cylinder.plot()"
   ]
  },
  {
   "cell_type": "code",
   "execution_count": 10,
   "metadata": {},
   "outputs": [
    {
     "data": {
      "text/plain": [
       "(1440, 2560)"
      ]
     },
     "execution_count": 10,
     "metadata": {},
     "output_type": "execute_result"
    }
   ],
   "source": [
    "mask = cylinder.silhouette()\n",
    "mask.shape"
   ]
  },
  {
   "cell_type": "code",
   "execution_count": 9,
   "metadata": {},
   "outputs": [
    {
     "name": "stdout",
     "output_type": "stream",
     "text": [
      "438 µs ± 4.78 µs per loop (mean ± std. dev. of 7 runs, 1,000 loops each)\n"
     ]
    }
   ],
   "source": [
    "%%timeit\n",
    "cylinder.silhouette()"
   ]
  },
  {
   "cell_type": "code",
   "execution_count": 10,
   "metadata": {},
   "outputs": [
    {
     "data": {
      "image/png": "[encoded data removed]",
      "text/plain": [
       "<Figure size 640x480 with 1 Axes>"
      ]
     },
     "metadata": {},
     "output_type": "display_data"
    }
   ],
   "source": [
    "random_cylinder = cylinder.copy(orientation=np.random.rand(3) * 2 - 1)\n",
    "random_cylinder.plot()"
   ]
  },
  {
   "cell_type": "code",
   "execution_count": 11,
   "metadata": {},
   "outputs": [
    {
     "data": {
      "text/plain": [
       "0.20890915791413303"
      ]
     },
     "execution_count": 11,
     "metadata": {},
     "output_type": "execute_result"
    }
   ],
   "source": [
    "jaccard_index(cylinder.silhouette(), random_cylinder.silhouette())"
   ]
  },
  {
   "cell_type": "code",
   "execution_count": 12,
   "metadata": {},
   "outputs": [
    {
     "data": {
      "text/plain": [
       "1.5658557726340585"
      ]
     },
     "execution_count": 12,
     "metadata": {},
     "output_type": "execute_result"
    }
   ],
   "source": [
    "def loss(test_cylinder: Cylinder):\n",
    "    overlap = jaccard_index(cylinder.silhouette(), test_cylinder.silhouette())\n",
    "    if overlap == 0:\n",
    "        return 100\n",
    "    return min(-np.log(overlap), 100)\n",
    "\n",
    "loss(random_cylinder)"
   ]
  },
  {
   "cell_type": "code",
   "execution_count": 13,
   "metadata": {},
   "outputs": [],
   "source": [
    "# theta is orientation AND position, orientation is 0, 2*np.pi, and position is -2, 2, and ...\n",
    "theta_bounds = np.array([np.pi/2, np.pi, np.pi, 2, 2, 10])  # from theta_0\n",
    "theta_0 = np.array([*random_cylinder.orientation, *random_cylinder.position])\n",
    "c0 = theta_bounds / 20"
   ]
  },
  {
   "cell_type": "markdown",
   "metadata": {},
   "source": [
    "So fixing everything except orientation is jumbled\n",
    "\n",
    "I need to define the range of orientation values that are possible, let's just say\n",
    "-np.pi/2 to np.pi/2\n",
    "-np.pi to np.pi * 2\n",
    "\n",
    "Now I want to standardize theta to scale that range to 1\n",
    "\n",
    "And then I want to sample N points in those dim spaces, and run spsa for each until we get to a local minima"
   ]
  },
  {
   "cell_type": "code",
   "execution_count": 14,
   "metadata": {},
   "outputs": [
    {
     "data": {
      "text/plain": [
       "0.871026844716998"
      ]
     },
     "execution_count": 14,
     "metadata": {},
     "output_type": "execute_result"
    }
   ],
   "source": [
    "def get_cylinder(theta):\n",
    "    bounds = np.array([np.pi, 2 * np.pi, 2 * np.pi])\n",
    "    return cylinder.copy(orientation= np.asarray(theta) * bounds)\n",
    "                              \n",
    "def loss_norm(theta):\n",
    "    return loss(get_cylinder(theta))\n",
    "loss_norm(np.zeros(3))"
   ]
  },
  {
   "cell_type": "code",
   "execution_count": 15,
   "metadata": {},
   "outputs": [],
   "source": [
    "optim = optim_spsa(np.zeros(3), loss_norm, a_gain(0.001, 1000), c_gain(0.001))"
   ]
  },
  {
   "cell_type": "code",
   "execution_count": 16,
   "metadata": {},
   "outputs": [
    {
     "name": "stdout",
     "output_type": "stream",
     "text": [
      "0.8598711044817731\n",
      "0.849776859040027\n",
      "0.8218723785811793\n",
      "0.8132291643721644\n",
      "0.8099878953015505\n",
      "0.7980239032717124\n",
      "0.7968451075829707\n",
      "0.7887162584832861\n",
      "0.7298393854702178\n",
      "0.7229262095627375\n",
      "0.693855232369661\n",
      "0.6921030506244688\n",
      "0.6897248219057557\n",
      "0.6834334883723062\n",
      "0.629472066198916\n",
      "0.6135960153685727\n",
      "0.6141662591117579\n",
      "0.6091091931653271\n",
      "0.6112555209536914\n",
      "0.5948260807175394\n",
      "0.5829812078205469\n",
      "0.5647048574428939\n",
      "0.5622300658860493\n",
      "0.5607773194038147\n",
      "0.5613131542824629\n",
      "0.5389515639811572\n",
      "0.5214246018710355\n",
      "0.5084305640051824\n",
      "0.5074877738930719\n",
      "0.4954530383034952\n",
      "0.5018693695465093\n",
      "0.494980221817427\n",
      "0.4782918501058377\n",
      "0.47205714820184713\n",
      "0.4730465339762042\n",
      "0.4597287956413015\n",
      "0.4563986678885606\n",
      "0.4390980905298886\n",
      "0.4279485287406332\n",
      "0.4278877898232348\n",
      "0.42693199843122936\n",
      "0.4270301146008529\n",
      "0.4271085902499923\n",
      "0.4117395752432731\n",
      "0.400896392590678\n",
      "0.3931263046454659\n",
      "0.38485702953528256\n",
      "0.38541125991517505\n",
      "0.3695841798156581\n",
      "0.3645456429508615\n",
      "0.34412822802865206\n",
      "0.34095823769363626\n",
      "0.3362498865104298\n",
      "0.3358896977169956\n",
      "0.32851862423119554\n",
      "0.31671207372732424\n",
      "0.3156923695275237\n",
      "0.3098076301898301\n",
      "0.3039587978462439\n",
      "0.2709252536765749\n",
      "0.26848990915554827\n",
      "0.25619006626988017\n",
      "0.2531294802974502\n",
      "0.24746589473144792\n",
      "0.23539595684322573\n",
      "0.23600254849086108\n",
      "0.2319952280239499\n",
      "0.23221677065287116\n",
      "0.22698200306243885\n",
      "0.222898475022424\n",
      "0.22257758448840978\n",
      "0.21633419470014428\n",
      "0.21355471425407155\n",
      "0.2083317109842149\n",
      "0.21008294010062492\n",
      "0.20710385036468082\n",
      "0.2076733315926701\n",
      "0.20396614113927022\n",
      "0.20412359637350297\n",
      "0.20202611963719408\n",
      "0.20383811121924933\n",
      "0.20589963877723907\n",
      "0.2074798131963183\n",
      "0.20589963877723907\n",
      "0.20383811121924933\n",
      "0.19826890752950607\n",
      "0.19681416552885408\n",
      "0.1941584535278122\n",
      "0.19115951298692566\n",
      "0.19154618259858655\n",
      "0.18866215774672895\n",
      "0.18850787260728863\n",
      "0.18850787260728863\n",
      "0.19242685670564263\n",
      "0.18508029281983926\n",
      "0.18464816871265852\n",
      "0.1802300437996063\n",
      "0.1806540491250901\n",
      "0.17808574349832812\n",
      "0.17455990626574036\n"
     ]
    },
    {
     "data": {
      "image/png": "[encoded data removed]",
      "text/plain": [
       "<Figure size 640x480 with 1 Axes>"
      ]
     },
     "metadata": {},
     "output_type": "display_data"
    }
   ],
   "source": [
    "for i, theta in zip(range(100), optim):\n",
    "    print(loss_norm(theta))\n",
    "get_cylinder(theta).plot()"
   ]
  },
  {
   "cell_type": "code",
   "execution_count": 17,
   "metadata": {},
   "outputs": [
    {
     "data": {
      "text/plain": [
       "1.6291225779380458"
      ]
     },
     "execution_count": 17,
     "metadata": {},
     "output_type": "execute_result"
    }
   ],
   "source": [
    "def bounding_box(mask):\n",
    "    # Get the x and y coordinates of non-zero values in the mask\n",
    "    rows = np.any(mask, axis=1)\n",
    "    cols = np.any(mask, axis=0)\n",
    "    rmin, rmax = np.where(rows)[0][[0, -1]]\n",
    "    cmin, cmax = np.where(cols)[0][[0, -1]]\n",
    "    return rmin, rmax, cmin, cmax\n",
    "\n",
    "def combine_bounding_boxes(bb1, bb2):\n",
    "    return min(bb1[0], bb2[0]), max(bb1[1], bb2[1]), min(bb1[2], bb2[2]), max(bb1[3], bb2[3])\n",
    "\n",
    "def get_bbox_area(bb):\n",
    "    rmin, rmax, cmin, cmax = bb\n",
    "    return (rmax - rmin) * (cmax - cmin)\n",
    "\n",
    "def norm_bbox_area(mask):\n",
    "    area = get_bbox_area(bounding_box(mask))\n",
    "    return area / mask.size\n",
    "\n",
    "combine_bounding_boxes(bounding_box(random_cylinder.silhouette()), bounding_box(mask))\n",
    "\n",
    "norm_bbox_area(mask)\n",
    "\n",
    "\n",
    "\n",
    "# 1.0 means taking up entire space AND 0 overlap\n",
    "# iou = 1 when i == u, so area * (1 - iou)\n",
    "# 0.0 means perfect overlap\n",
    "# issue is if disappear... it penalizes being 'big'\n",
    "# what if I get bbox and penalize amount of 0 inside it relative to size of the object?\n",
    "# this would encourage it to get big lol, but thats ok, b/c when it gets big itll start to intersect\n",
    "# and when it starts to intersect its score will go down...\n",
    "# or maybe I do iterative tasking - when intersection is 0, use bounding box score, when its not, use other...\n",
    "# ok I'll do that. Problem is in boundary condition... so when iou is 0, use other, but when iou approaches 1, just use that\n",
    "# normalize score for both\n",
    "# OR: just random select until I get a point where there is an intersection\n",
    "\n",
    "OBJECTIVE_MASK = cylinder.silhouette()\n",
    "OBJECTIVE_AREA = get_bbox_area(bounding_box(OBJECTIVE_MASK))\n",
    "\n",
    "def calc_bbox_loss(union_mask, test_mask):\n",
    "    if not np.any(test_mask):\n",
    "        return 1\n",
    "    rmin, rmax, cmin, cmax = bounding_box(union_mask)\n",
    "    sub_array = mask[rmin:rmax+1, cmin:cmax+1]\n",
    "    union_zeros = np.sum(sub_array == 0)\n",
    "    \n",
    "    rmin, rmax, cmin, cmax = bounding_box(test_mask)\n",
    "    sub_array = mask[rmin:rmax+1, cmin:cmax+1]\n",
    "    test_zeros = np.sum(sub_array == 0)\n",
    "    \n",
    "    # Count and return the number of zeros\n",
    "    return max(0, union_zeros - test_zeros) / test_mask.size\n",
    "\n",
    "    area = get_bbox_area(bounding_box(union_mask))\n",
    "    return area / test_mask.size\n",
    "    my_area = get_bbox_area(bounding_box(test_mask))\n",
    "    bbox_loss = area / (my_area + OBJECTIVE_AREA) # may be > 1 or < 1 worst case is image area / their_area\n",
    "    bbox_loss *= (OBJECTIVE_AREA / test_mask.size) # this scales it to be a max of 1\n",
    "    # o = 90, t = 10, a = 100, f = 100\n",
    "    # loss = 0.9, so loss --> 1 as 0 --> 100\n",
    "    # t = 90, o = 10, a = 100, f = 100\n",
    "    # loss = 0.1\n",
    "    # t = 10, o = 10, a = 100, f = 100\n",
    "    # 100 / 20 = 5 * 10 / 100 = 0.5\n",
    "    # but if I just return area I'm guarenteed improvement from intersection is <= addition of bbox\n",
    "    return bbox_loss\n",
    "\n",
    "def better_loss(test_cylinder: Cylinder):\n",
    "    test_mask = test_cylinder.silhouette()\n",
    "    intersection = np.logical_and(test_mask, OBJECTIVE_MASK).sum()\n",
    "    union_mask = np.logical_or(test_mask, OBJECTIVE_MASK)\n",
    "    union = union_mask.sum()\n",
    "    bbox_loss = calc_bbox_loss(union_mask, test_mask)\n",
    "    val = 0.8 * (1 - intersection / union) + bbox_loss * 0.2\n",
    "    return min(-np.log(1 - val), 100)\n",
    "\n",
    "def get_cylinder2(theta):\n",
    "    bounds = np.array([np.pi, 2 * np.pi, 2 * np.pi, 8, 8, 20])\n",
    "    if theta[-1] <= 0.01:\n",
    "        theta[-1] = 0.01  # clip!\n",
    "    params = np.asarray(theta) * bounds\n",
    "    return cylinder.copy(orientation= params[:3], position=params[3:])\n",
    "\n",
    "def loss_norm2(theta):\n",
    "    return better_loss(get_cylinder2(theta))\n",
    "\n",
    "loss_norm2(np.random.rand(6))"
   ]
  },
  {
   "cell_type": "code",
   "execution_count": 18,
   "metadata": {},
   "outputs": [
    {
     "data": {
      "text/plain": [
       "1.4342319705294964"
      ]
     },
     "execution_count": 18,
     "metadata": {},
     "output_type": "execute_result"
    }
   ],
   "source": [
    "better_loss(cylinder.copy(orientation=[0,0,0], position=[0, 0, 2]))"
   ]
  },
  {
   "cell_type": "markdown",
   "metadata": {},
   "source": [
    "So it looks like it worked for orientation of 0... try for other orientations?"
   ]
  },
  {
   "cell_type": "code",
   "execution_count": 19,
   "metadata": {},
   "outputs": [
    {
     "data": {
      "image/png": "[encoded data removed]",
      "text/plain": [
       "<Figure size 640x480 with 1 Axes>"
      ]
     },
     "metadata": {},
     "output_type": "display_data"
    }
   ],
   "source": [
    "theta0 = np.random.rand(6)\n",
    "theta0[4] = 0\n",
    "theta0[3] = 0\n",
    "for i in range(100):\n",
    "    if loss_norm2(theta0) < 50 and theta0[-1] > 0.1:\n",
    "        break\n",
    "    theta0 = np.random.rand(6)\n",
    "    theta0[3] = 0\n",
    "    theta0[4] = 0\n",
    "else:\n",
    "    print(\"Couldnt find ok theta0?\")\n",
    "get_cylinder2(theta0).plot()"
   ]
  },
  {
   "cell_type": "code",
   "execution_count": 35,
   "metadata": {},
   "outputs": [
    {
     "name": "stdout",
     "output_type": "stream",
     "text": [
      "1.6227358460129169\n",
      "1.6195266100643706\n",
      "1.6157905128183763\n",
      "1.614246274848933\n",
      "1.612991310294896\n",
      "1.6124837245996562\n",
      "1.612091440779189\n",
      "1.6119470255091584\n",
      "1.6116544513438718\n",
      "1.6109894083504366\n",
      "1.6108274950785464\n",
      "1.6105148810455514\n",
      "1.610904101781942\n",
      "1.6110024494862545\n",
      "1.6110274454719546\n",
      "1.611373106196898\n",
      "1.6112785267668206\n",
      "1.610941048956452\n",
      "1.6110771676053923\n",
      "1.6106112893737308\n",
      "1.6104130513560266\n",
      "1.6100783084160646\n",
      "1.5978704109263457\n",
      "1.4216538684561644\n",
      "1.1919054176289638\n",
      "1.0114329059682559\n",
      "0.827029959572475\n",
      "0.6625747606838667\n",
      "0.4565558053735466\n",
      "0.32928800812643955\n",
      "0.15392283829956155\n",
      "0.055537239068946385\n",
      "0.05494310054007881\n",
      "0.06285337372917117\n",
      "0.06666633501874\n",
      "0.043987309468660134\n",
      "0.052590503328435116\n",
      "0.05865083853173594\n",
      "0.049656413618499984\n",
      "0.06949836639777462\n",
      "0.058534642555801854\n",
      "0.04030942375493233\n",
      "0.057404942125611966\n",
      "0.06769703507388158\n",
      "0.06249614632789326\n",
      "0.043712342023816506\n",
      "0.06621262992371721\n",
      "0.0457916521550671\n",
      "0.05213352326774903\n",
      "0.054678391057256685\n",
      "0.041297758094883535\n",
      "0.06239519898373929\n",
      "0.04829310716769\n",
      "0.08207516886326875\n",
      "0.09681127299944532\n",
      "0.0727850525732525\n",
      "0.0627202036113302\n",
      "0.076244913839478\n",
      "0.07392664996693207\n",
      "0.07835854708236442\n",
      "0.053517736180094685\n",
      "0.051514313285565924\n",
      "0.04946324446546757\n",
      "0.05570192032847626\n",
      "0.06942809439731353\n",
      "0.05526946596015179\n",
      "0.04337029044224077\n",
      "0.0720092778035337\n",
      "0.04155673308695243\n",
      "0.04782999535781483\n",
      "0.0643949506845391\n",
      "0.048939661709534975\n",
      "0.04958868176177349\n",
      "0.06530704792382053\n",
      "0.08956669955818267\n",
      "0.059657040015896876\n",
      "0.06952970437097114\n",
      "0.0968580443056702\n",
      "0.07570860782763361\n",
      "0.0812672830640592\n",
      "0.08081563532811933\n",
      "0.07648415524684725\n",
      "0.08310269464176996\n",
      "0.05757249329364235\n",
      "0.06703673088805741\n",
      "0.06703673088805741\n",
      "0.06047816893229814\n",
      "0.04904195017873745\n",
      "0.03693399246860483\n",
      "0.05750865569933369\n",
      "0.06504995966790797\n",
      "0.05404152102627599\n",
      "0.05404152102627599\n",
      "0.05465151111874949\n",
      "0.061409963064790136\n",
      "0.06416921538456276\n",
      "0.04740254400260161\n",
      "0.04129580641511934\n",
      "0.07165759904892581\n",
      "0.037105427884424814\n"
     ]
    }
   ],
   "source": [
    "get_cylinder2(theta0).plot()\n",
    "plt.gcf().savefig(\"output/optim_frames/frame1.png\")\n",
    "plt.close()\n",
    "#plt.show()\n",
    "N = 1_000\n",
    "optim = optim_spsa(theta0, loss_norm2, a_gain(0.05, N / 5), c_gain(0.001), max_theta_diff=0.005)\n",
    "for i, theta in zip(range(N), optim):\n",
    "    if i % 10 == 0:\n",
    "        print(loss_norm2(theta))\n",
    "        get_cylinder2(theta).plot()\n",
    "        num = int(i / 10) + 1\n",
    "        plt.savefig(f\"output/optim_frames/frame{num}.png\")\n",
    "        plt.close()\n",
    "        #plt.show()"
   ]
  },
  {
   "cell_type": "code",
   "execution_count": 36,
   "metadata": {},
   "outputs": [
    {
     "name": "stdout",
     "output_type": "stream",
     "text": [
      "['./output/optim_frames\\\\frame1.png', './output/optim_frames\\\\frame2.png', './output/optim_frames\\\\frame3.png', './output/optim_frames\\\\frame4.png', './output/optim_frames\\\\frame5.png', './output/optim_frames\\\\frame6.png', './output/optim_frames\\\\frame7.png', './output/optim_frames\\\\frame8.png', './output/optim_frames\\\\frame9.png', './output/optim_frames\\\\frame10.png', './output/optim_frames\\\\frame11.png', './output/optim_frames\\\\frame12.png', './output/optim_frames\\\\frame13.png', './output/optim_frames\\\\frame14.png', './output/optim_frames\\\\frame15.png', './output/optim_frames\\\\frame16.png', './output/optim_frames\\\\frame17.png', './output/optim_frames\\\\frame18.png', './output/optim_frames\\\\frame19.png', './output/optim_frames\\\\frame20.png', './output/optim_frames\\\\frame21.png', './output/optim_frames\\\\frame22.png', './output/optim_frames\\\\frame23.png', './output/optim_frames\\\\frame24.png', './output/optim_frames\\\\frame25.png', './output/optim_frames\\\\frame26.png', './output/optim_frames\\\\frame27.png', './output/optim_frames\\\\frame28.png', './output/optim_frames\\\\frame29.png', './output/optim_frames\\\\frame30.png', './output/optim_frames\\\\frame31.png', './output/optim_frames\\\\frame32.png', './output/optim_frames\\\\frame33.png', './output/optim_frames\\\\frame34.png', './output/optim_frames\\\\frame35.png', './output/optim_frames\\\\frame36.png', './output/optim_frames\\\\frame37.png', './output/optim_frames\\\\frame38.png', './output/optim_frames\\\\frame39.png', './output/optim_frames\\\\frame40.png', './output/optim_frames\\\\frame41.png', './output/optim_frames\\\\frame42.png', './output/optim_frames\\\\frame43.png', './output/optim_frames\\\\frame44.png', './output/optim_frames\\\\frame45.png', './output/optim_frames\\\\frame46.png', './output/optim_frames\\\\frame47.png', './output/optim_frames\\\\frame48.png', './output/optim_frames\\\\frame49.png', './output/optim_frames\\\\frame50.png', './output/optim_frames\\\\frame51.png', './output/optim_frames\\\\frame52.png', './output/optim_frames\\\\frame53.png', './output/optim_frames\\\\frame54.png', './output/optim_frames\\\\frame55.png', './output/optim_frames\\\\frame56.png', './output/optim_frames\\\\frame57.png', './output/optim_frames\\\\frame58.png', './output/optim_frames\\\\frame59.png', './output/optim_frames\\\\frame60.png', './output/optim_frames\\\\frame61.png', './output/optim_frames\\\\frame62.png', './output/optim_frames\\\\frame63.png', './output/optim_frames\\\\frame64.png', './output/optim_frames\\\\frame65.png', './output/optim_frames\\\\frame66.png', './output/optim_frames\\\\frame67.png', './output/optim_frames\\\\frame68.png', './output/optim_frames\\\\frame69.png', './output/optim_frames\\\\frame70.png', './output/optim_frames\\\\frame71.png', './output/optim_frames\\\\frame72.png', './output/optim_frames\\\\frame73.png', './output/optim_frames\\\\frame74.png', './output/optim_frames\\\\frame75.png', './output/optim_frames\\\\frame76.png', './output/optim_frames\\\\frame77.png', './output/optim_frames\\\\frame78.png', './output/optim_frames\\\\frame79.png', './output/optim_frames\\\\frame80.png', './output/optim_frames\\\\frame81.png', './output/optim_frames\\\\frame82.png', './output/optim_frames\\\\frame83.png', './output/optim_frames\\\\frame84.png', './output/optim_frames\\\\frame85.png', './output/optim_frames\\\\frame86.png', './output/optim_frames\\\\frame87.png', './output/optim_frames\\\\frame88.png', './output/optim_frames\\\\frame89.png', './output/optim_frames\\\\frame90.png', './output/optim_frames\\\\frame91.png', './output/optim_frames\\\\frame92.png', './output/optim_frames\\\\frame93.png', './output/optim_frames\\\\frame94.png', './output/optim_frames\\\\frame95.png', './output/optim_frames\\\\frame96.png', './output/optim_frames\\\\frame97.png', './output/optim_frames\\\\frame98.png', './output/optim_frames\\\\frame99.png', './output/optim_frames\\\\frame100.png']\n"
     ]
    }
   ],
   "source": [
    "import glob \n",
    "import os\n",
    "from pathlib import Path\n",
    "\n",
    "img_folder_path = './output/optim_frames/'\n",
    "\n",
    "# Get the file names using glob\n",
    "img_files = sorted(glob.glob(os.path.join(img_folder_path, 'frame*.png')), key=lambda s: int(Path(s).stem.replace(\"frame\", \"\")))\n",
    "print(img_files)\n",
    "\n",
    "# Read the first image to get the width and height\n",
    "img = cv2.imread(img_files[0])\n",
    "h, w, layers = img.shape\n",
    "\n",
    "# Define the codec using VideoWriter_fourcc and create a VideoWriter object\n",
    "out = cv2.VideoWriter('output_video.mp4', cv2.VideoWriter_fourcc(*'mp4v'), 1, (w, h))\n",
    "\n",
    "for file in img_files:\n",
    "    img = cv2.imread(file)\n",
    "    out.write(img)\n",
    "\n",
    "out.release()"
   ]
  },
  {
   "cell_type": "code",
   "execution_count": 22,
   "metadata": {},
   "outputs": [
    {
     "name": "stdout",
     "output_type": "stream",
     "text": [
      "1.6217777332156134\n",
      "1.621438615892187\n",
      "1.621438615892187\n",
      "1.6214726597258222\n",
      "1.6213351187738851\n",
      "1.6213246872978393\n",
      "1.6211314501579384\n",
      "1.620916298189566\n",
      "1.6207486544466676\n",
      "1.6204825674275107\n",
      "1.619952524642871\n",
      "1.6196740425875396\n",
      "1.619456463930216\n",
      "1.619102246319377\n",
      "1.6190129583552257\n",
      "1.6184812301603921\n",
      "1.618398566620659\n",
      "1.6183919976258223\n",
      "1.618357511110867\n",
      "1.618357511110867\n",
      "1.6183301417073956\n",
      "1.6183301417073956\n",
      "1.6183022256875392\n",
      "1.618211914491517\n",
      "1.617896983805814\n",
      "1.6173158127201792\n",
      "1.61719633845601\n",
      "1.617166540463162\n",
      "1.6170544642205844\n",
      "1.6169861312124894\n",
      "1.6169814847374897\n",
      "1.6164459181881974\n",
      "1.616105326869765\n",
      "1.6157727682293495\n",
      "1.6155350211100943\n",
      "1.615538023304562\n",
      "1.6150146859392092\n",
      "1.6149104877333975\n",
      "1.6142697165611168\n",
      "1.6142045717658833\n",
      "1.6141814041378728\n",
      "1.6140001700422015\n",
      "1.6139334078647216\n",
      "1.6137078119349542\n",
      "1.6134245268172138\n",
      "1.6134245268172138\n",
      "1.6134245268172138\n",
      "1.6133913005523386\n",
      "1.6132916283811074\n"
     ]
    },
    {
     "data": {
      "image/png": "[encoded data removed]",
      "text/plain": [
       "<Figure size 640x480 with 1 Axes>"
      ]
     },
     "metadata": {},
     "output_type": "display_data"
    }
   ],
   "source": [
    "optim = optim_spsa(theta0, loss_norm2, a_gain(0.01, 100), c_gain(0.001))\n",
    "for i, theta in zip(range(50), optim):\n",
    "    if i % 50:\n",
    "        print(loss_norm2(theta))\n",
    "get_cylinder2(theta).plot()"
   ]
  },
  {
   "cell_type": "code",
   "execution_count": 37,
   "metadata": {},
   "outputs": [
    {
     "data": {
      "image/png": "[encoded data removed]",
      "text/plain": [
       "<Figure size 640x480 with 1 Axes>"
      ]
     },
     "metadata": {},
     "output_type": "display_data"
    }
   ],
   "source": [
    "cylinder.plot()"
   ]
  },
  {
   "cell_type": "code",
   "execution_count": 24,
   "metadata": {},
   "outputs": [],
   "source": [
    "def get_cylinder(theta):\n",
    "    bounds = np.array([np.pi, 2 * np.pi, 2 * np.pi])\n",
    "    return cylinder.copy(orientation= np.asarray(theta) * bounds)\n",
    "                              \n",
    "def loss_norm(theta):\n",
    "    return loss(get_cylinder(theta))"
   ]
  },
  {
   "cell_type": "code",
   "execution_count": 25,
   "metadata": {},
   "outputs": [
    {
     "data": {
      "image/png": "[encoded data removed]",
      "text/plain": [
       "<Figure size 640x480 with 1 Axes>"
      ]
     },
     "metadata": {},
     "output_type": "display_data"
    }
   ],
   "source": [
    "test_cylinder = Cylinder(cylinder.K, cylinder.radius, cylinder.height, 30)\n",
    "test_cylinder.orientation = np.array([0.1, 0.2, 0.5])\n",
    "cv2_imshow(test_cylinder.wireframe())"
   ]
  },
  {
   "cell_type": "code",
   "execution_count": 26,
   "metadata": {},
   "outputs": [
    {
     "data": {
      "image/png": "[encoded data removed]",
      "text/plain": [
       "<Figure size 640x480 with 1 Axes>"
      ]
     },
     "metadata": {},
     "output_type": "display_data"
    }
   ],
   "source": [
    "cv2_imshow(cylinder.wireframe())"
   ]
  },
  {
   "cell_type": "code",
   "execution_count": 27,
   "metadata": {},
   "outputs": [
    {
     "data": {
      "image/png": "[encoded data removed]",
      "text/plain": [
       "<Figure size 640x480 with 1 Axes>"
      ]
     },
     "metadata": {},
     "output_type": "display_data"
    }
   ],
   "source": [
    "cv2_imshow(random_cylinder.wireframe())"
   ]
  },
  {
   "cell_type": "code",
   "execution_count": 28,
   "metadata": {},
   "outputs": [
    {
     "data": {
      "text/plain": [
       "array([-0.60980197,  0.60115268,  0.87118094])"
      ]
     },
     "execution_count": 28,
     "metadata": {},
     "output_type": "execute_result"
    }
   ],
   "source": [
    "random_cylinder.orientation"
   ]
  },
  {
   "cell_type": "code",
   "execution_count": 29,
   "metadata": {},
   "outputs": [
    {
     "data": {
      "text/plain": [
       "array([-0.31691837,  2.77999997, 11.0725565 ])"
      ]
     },
     "execution_count": 29,
     "metadata": {},
     "output_type": "execute_result"
    }
   ],
   "source": [
    "random_cylinder.position"
   ]
  },
  {
   "cell_type": "code",
   "execution_count": null,
   "metadata": {},
   "outputs": [],
   "source": []
  }
 ],
 "metadata": {
  "kernelspec": {
   "display_name": "pytorch22",
   "language": "python",
   "name": "python3"
  },
  "language_info": {
   "codemirror_mode": {
    "name": "ipython",
    "version": 3
   },
   "file_extension": ".py",
   "mimetype": "text/x-python",
   "name": "python",
   "nbconvert_exporter": "python",
   "pygments_lexer": "ipython3",
   "version": "3.10.8"
  },
  "orig_nbformat": 4
 },
 "nbformat": 4,
 "nbformat_minor": 2
}
