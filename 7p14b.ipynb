{
 "cells": [
  {
   "cell_type": "code",
   "execution_count": 1,
   "metadata": {},
   "outputs": [],
   "source": [
    "import numpy as np\n",
    "import matplotlib.pyplot as plt"
   ]
  },
  {
   "cell_type": "markdown",
   "metadata": {},
   "source": [
    "$$\n",
    "L(\\theta) = \\sum i t_i + \\prod t_i^{-1}\n",
    "$$\n",
    "\n",
    "$$\n",
    "\\frac{\\partial L}{\\partial t_i} = i - t_i ^{-1} \\prod t_j^{-1}\n",
    "$$\n",
    "\n",
    "$$\n",
    "\\frac{\\partial^2 L}{\\partial t_i^2} = 2 t_i ^{-2} \\prod t_j^{-1}\n",
    "$$"
   ]
  },
  {
   "cell_type": "code",
   "execution_count": 2,
   "metadata": {},
   "outputs": [],
   "source": [
    "def loss_7p14(theta):\n",
    "    return theta @ np.arange(1, len(theta) + 1) + np.prod(1/theta)\n",
    "\n",
    "def grad_7p14(theta):\n",
    "    # prod tj^-1 either way\n",
    "    prod_part = np.prod(1/theta)\n",
    "    return np.arange(1, len(theta) + 1) - prod_part/theta\n",
    "\n",
    "def hess_7p14(theta):\n",
    "    prod_part = np.prod(1/theta)\n",
    "    return 2 * prod_part / (theta **2)"
   ]
  },
  {
   "cell_type": "markdown",
   "metadata": {},
   "source": [
    "Find $\\theta^*$ via Newton's method using calculated first and second order partial derivatives of the loss function"
   ]
  },
  {
   "cell_type": "code",
   "execution_count": 58,
   "metadata": {},
   "outputs": [
    {
     "name": "stdout",
     "output_type": "stream",
     "text": [
      "Iter 0: 53.77349308567059\n",
      "   Theta: 1. 0.95 0.9 0.85 0.8 0.75 0.7 0.65 0.6 0.55\n",
      "Iter 200: 43.4244952732134\n",
      "   Theta: 3.947 1.974 1.316 0.987 0.79 0.658 0.564 0.493 0.439 0.395\n",
      "No more improvement, stopping\n",
      "Iter 360: 43.42449524833548\n",
      "   Theta: 3.948 1.974 1.316 0.987 0.79 0.658 0.564 0.493 0.439 0.395\n"
     ]
    }
   ],
   "source": [
    "P = 10\n",
    "theta = np.ones(P)\n",
    "last_loss = loss_7p14(theta)\n",
    "a0 = 0.1\n",
    "a = a0\n",
    "for i in range(1000):\n",
    "    grad = grad_7p14(theta)\n",
    "    hess = hess_7p14(theta)\n",
    "    ht = grad / hess\n",
    "    theta_c = theta - .1 * ht\n",
    "    loss_diff = last_loss - loss_7p14(theta_c)\n",
    "    if a < 1e-12:\n",
    "        print(\"No more improvement, stopping\")\n",
    "        break\n",
    "    if loss_diff <= 0:\n",
    "        a /= 2\n",
    "        continue\n",
    "    a = a0\n",
    "    theta = theta_c\n",
    "    last_loss = loss_7p14(theta)\n",
    "    if i % 200 == 0:\n",
    "        print(f\"Iter {i}: {loss_7p14(theta)}\")\n",
    "        print(\"   Theta:\", \" \".join([np.format_float_positional(ti, 3) for ti in theta]))\n",
    "\n",
    "\n",
    "print(f\"Iter {i}: {loss_7p14(theta)}\")\n",
    "print(\"   Theta:\", \" \".join([np.format_float_positional(ti, 3) for ti in theta]))\n",
    "theta_optimal = np.array(theta)"
   ]
  },
  {
   "cell_type": "markdown",
   "metadata": {},
   "source": [
    "Now use SPSA with noise injected into loss function\n",
    "\n",
    "$a = 0.01$, $A = 1000$, $c = 0.015$, $\\alpha = 0.602$, $\\gamma = 0.101$"
   ]
  },
  {
   "cell_type": "code",
   "execution_count": 61,
   "metadata": {},
   "outputs": [],
   "source": [
    "# noise is theta, 1 * I_11 V so dot product\n",
    "def noise_7p14(theta):\n",
    "    return np.append(theta, 1) @ np.random.normal(0, 0.001, size=11)\n",
    "\n",
    "def norm_loss_genfnc(loss_fnc, theta_0, theta_optimal):\n",
    "    # from 7.3 example\n",
    "    return lambda theta: (loss_fnc(theta) - loss_fnc(theta_optimal)) / (loss_fnc(theta_0) - loss_fnc(theta_optimal))\n",
    "\n",
    "def bernouli_sample(p):\n",
    "    while True:\n",
    "        proba = np.random.rand(p)\n",
    "        values = (proba < 0.5).astype(int) * 2 - 1\n",
    "        yield values\n",
    "\n",
    "def a_gain(a, A, alpha):\n",
    "    \"\"\"Coroutine, send k and get ak\"\"\"\n",
    "    k = 0\n",
    "    while True:\n",
    "        kc = yield a / (k + 1 + A)**alpha\n",
    "        k += 1\n",
    "        if kc is not None:\n",
    "            print(f\"Setting k = {kc}\")\n",
    "            k = kc\n",
    "            yield # pause\n",
    "\n",
    "def c_gain(c, gamma):\n",
    "    \"\"\"Coroutine, send k and get ck\"\"\"\n",
    "    k = 0\n",
    "    while True:\n",
    "        kc = yield c / (k + 1)**gamma\n",
    "        k += 1\n",
    "        if kc is not None:\n",
    "            print(f\"Setting k = {kc}\")\n",
    "            k = kc\n",
    "            yield # pause\n",
    "\n",
    "def approx_gradient(loss, perturb, theta, c):\n",
    "    # SPSA\n",
    "    diff = loss(theta + c * perturb) - loss(theta - c * perturb)\n",
    "    return (diff / (2 * c)) / perturb\n",
    "\n",
    "def grad_step(theta, a, grad):\n",
    "    return theta - a * grad"
   ]
  },
  {
   "cell_type": "code",
   "execution_count": 54,
   "metadata": {},
   "outputs": [
    {
     "name": "stdout",
     "output_type": "stream",
     "text": [
      "0 0.0001562207380859837 0.015\n",
      "1 0.00015612686226702544 0.013985797296552487\n",
      "2 0.00015603313641707892 0.013424620340351448\n"
     ]
    }
   ],
   "source": [
    "ak_gen = a_gain(0.01, 1000, 0.602)\n",
    "ck_gen = c_gain(0.015, 0.101)\n",
    "\n",
    "for i, ak, ck in zip(range(3), ak_gen, ck_gen):\n",
    "    print(i, ak, ck)"
   ]
  },
  {
   "cell_type": "markdown",
   "metadata": {},
   "source": [
    "I'm curious how well it does (after I did fixes to algo) and given a naive starting point estimate (theta = ones)"
   ]
  },
  {
   "cell_type": "code",
   "execution_count": 69,
   "metadata": {},
   "outputs": [
    {
     "name": "stdout",
     "output_type": "stream",
     "text": [
      "Setting k = 0\n",
      "Setting k = 0\n",
      "Iter 0: 56.0\n",
      "   Theta: 1. 1. 1. 1. 1. 1. 1. 1. 1. 1.\n",
      "    ak=0.0001562207380859837 ck=0.015\n",
      "Iter 4000: 44.85935672705365\n",
      "   Theta: 1.770 1.512 1.285 1.078 0.915 0.773 0.656 0.572 0.506 0.451\n",
      "    ak=5.931544235328241e-05 ck=0.006490411543244501\n",
      "Iter 8000: 44.37415366579187\n",
      "   Theta: 2.023 1.652 1.342 1.09 0.891 0.737 0.624 0.544 0.485 0.437\n",
      "    ak=4.1640598352471345e-05 ck=0.006051648401591164\n",
      "Iter 12000: 44.1614199746292\n",
      "   Theta: 2.176 1.73 1.366 1.08 0.872 0.721 0.613 0.536 0.476 0.429\n",
      "    ak=3.337228866524169e-05 ck=0.005808851819934929\n",
      "Iter 16000: 44.037117843000516\n",
      "   Theta: 2.286 1.78 1.376 1.073 0.859 0.710 0.608 0.531 0.471 0.424\n",
      "    ak=2.839581713053996e-05 ck=0.005642510805208821\n",
      "Iter 19999: 43.952827584146185\n",
      "   Theta: 2.372 1.816 1.382 1.065 0.849 0.706 0.603 0.528 0.468 0.420\n"
     ]
    }
   ],
   "source": [
    "theta = np.ones(P)\n",
    "losses = []\n",
    "ak_gen.send(0)\n",
    "ck_gen.send(0)\n",
    "for perturb, ak, ck, i in zip(bernouli_sample(P), ak_gen, ck_gen, range(20_000)):\n",
    "    loss = loss_7p14(theta) + noise_7p14(theta)\n",
    "    if i % 4_000 == 0:\n",
    "        print(f\"Iter {i}: {loss_7p14(theta)}\")\n",
    "        print(\"   Theta:\", \" \".join([np.format_float_positional(ti, 3) for ti in theta]))\n",
    "        print(f\"    ak={ak} ck={ck}\")\n",
    "    grad = approx_gradient(loss_7p14, perturb, theta, ck)\n",
    "    theta = grad_step(theta, ak, grad)\n",
    "    losses.append(loss)\n",
    "print(f\"Iter {i}: {loss_7p14(theta)}\")\n",
    "print(\"   Theta:\", \" \".join([np.format_float_positional(ti, 3) for ti in theta]))"
   ]
  },
  {
   "cell_type": "code",
   "execution_count": 70,
   "metadata": {},
   "outputs": [
    {
     "data": {
      "image/png": "[encoded data removed]",
      "text/plain": [
       "<Figure size 640x480 with 1 Axes>"
      ]
     },
     "metadata": {},
     "output_type": "display_data"
    }
   ],
   "source": [
    "plt.plot(losses)\n",
    "plt.xscale('log')"
   ]
  },
  {
   "cell_type": "markdown",
   "metadata": {},
   "source": [
    "Now do part (b) actually and have $\\hat{\\theta}_0 = 1.1\\theta^*$"
   ]
  },
  {
   "cell_type": "code",
   "execution_count": 71,
   "metadata": {},
   "outputs": [
    {
     "name": "stdout",
     "output_type": "stream",
     "text": [
      "Setting k = 0\n",
      "Setting k = 0\n",
      "Iter 0: 44.94649731559552\n",
      "   Theta: 4.342 2.171 1.447 1.086 0.868 0.724 0.620 0.543 0.482 0.434\n",
      "    ak=0.0001562207380859837 ck=0.015\n",
      "Iter 2000: 43.46680767139707\n",
      "   Theta: 4.328 2.113 1.371 0.990 0.779 0.641 0.545 0.477 0.424 0.382\n",
      "    ak=8.066513607414323e-05 ck=0.00696089853109683\n",
      "Iter 4000: 43.4555150660216\n",
      "   Theta: 4.313 2.09 1.347 0.979 0.774 0.642 0.550 0.482 0.429 0.386\n",
      "    ak=5.931544235328241e-05 ck=0.006490411543244501\n",
      "Iter 6000: 43.45060062833808\n",
      "   Theta: 4.303 2.075 1.335 0.975 0.774 0.644 0.553 0.484 0.430 0.387\n",
      "    ak=4.844105947939939e-05 ck=0.00623003767169601\n",
      "Iter 8000: 43.44771670194914\n",
      "   Theta: 4.294 2.064 1.328 0.973 0.775 0.646 0.554 0.485 0.431 0.388\n",
      "    ak=4.1640598352471345e-05 ck=0.006051648401591164\n",
      "Iter 10000: 43.44563072407608\n",
      "   Theta: 4.287 2.055 1.323 0.973 0.776 0.647 0.555 0.486 0.432 0.389\n",
      "    ak=3.6902674017471305e-05 ck=0.005916799774137484\n",
      "Iter 12000: 43.44406223749469\n",
      "   Theta: 4.281 2.048 1.319 0.973 0.776 0.648 0.555 0.486 0.432 0.389\n",
      "    ak=3.337228866524169e-05 ck=0.005808851819934929\n",
      "Iter 14000: 43.442865142259315\n",
      "   Theta: 4.275 2.042 1.317 0.973 0.777 0.648 0.556 0.486 0.433 0.389\n",
      "    ak=3.061791640256099e-05 ck=0.005719119806713608\n",
      "Iter 16000: 43.44183287355116\n",
      "   Theta: 4.27 2.037 1.314 0.974 0.778 0.649 0.556 0.487 0.433 0.39\n",
      "    ak=2.839581713053996e-05 ck=0.005642510805208821\n",
      "Iter 18000: 43.44099660875916\n",
      "   Theta: 4.265 2.032 1.313 0.974 0.778 0.649 0.557 0.487 0.433 0.39\n",
      "    ak=2.655685071748113e-05 ck=0.005575788595343036\n",
      "Iter 19999: 43.44026370625562\n",
      "   Theta: 4.261 2.028 1.311 0.974 0.779 0.65 0.557 0.487 0.433 0.390\n"
     ]
    }
   ],
   "source": [
    "theta = theta_optimal * 1.1\n",
    "norm_loss = norm_loss_genfnc(loss_7p14, theta_optimal * 1.1, theta_optimal)\n",
    "losses = []\n",
    "ak_gen.send(0)\n",
    "ck_gen.send(0)\n",
    "for perturb, ak, ck, i in zip(bernouli_sample(P), ak_gen, ck_gen, range(20_000)):\n",
    "    loss = loss_7p14(theta) + noise_7p14(theta)\n",
    "    if i % 2_000 == 0:\n",
    "        print(f\"Iter {i}: {loss_7p14(theta)}\")\n",
    "        print(\"   Theta:\", \" \".join([np.format_float_positional(ti, 3) for ti in theta]))\n",
    "        print(f\"    ak={ak} ck={ck}\")\n",
    "    grad = approx_gradient(loss_7p14, perturb, theta, ck)\n",
    "    theta = grad_step(theta, ak, grad)\n",
    "    losses.append(norm_loss(theta))\n",
    "print(f\"Iter {i}: {loss_7p14(theta)}\")\n",
    "print(\"   Theta:\", \" \".join([np.format_float_positional(ti, 3) for ti in theta]))"
   ]
  },
  {
   "cell_type": "code",
   "execution_count": 72,
   "metadata": {},
   "outputs": [
    {
     "data": {
      "image/png": "[encoded data removed]",
      "text/plain": [
       "<Figure size 640x480 with 1 Axes>"
      ]
     },
     "metadata": {},
     "output_type": "display_data"
    }
   ],
   "source": [
    "plt.plot(losses)\n",
    "plt.title(\"Norm Loss\")\n",
    "plt.xscale('log')"
   ]
  },
  {
   "cell_type": "code",
   "execution_count": 73,
   "metadata": {},
   "outputs": [
    {
     "data": {
      "text/plain": [
       "0.010360339357833868"
      ]
     },
     "execution_count": 73,
     "metadata": {},
     "output_type": "execute_result"
    }
   ],
   "source": [
    "losses[-1]"
   ]
  },
  {
   "cell_type": "code",
   "execution_count": null,
   "metadata": {},
   "outputs": [],
   "source": []
  }
 ],
 "metadata": {
  "kernelspec": {
   "display_name": "pytorch22",
   "language": "python",
   "name": "python3"
  },
  "language_info": {
   "codemirror_mode": {
    "name": "ipython",
    "version": 3
   },
   "file_extension": ".py",
   "mimetype": "text/x-python",
   "name": "python",
   "nbconvert_exporter": "python",
   "pygments_lexer": "ipython3",
   "version": "3.10.8"
  },
  "orig_nbformat": 4
 },
 "nbformat": 4,
 "nbformat_minor": 2
}
