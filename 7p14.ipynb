{
 "cells": [
  {
   "cell_type": "code",
   "execution_count": 1,
   "metadata": {},
   "outputs": [],
   "source": [
    "import numpy as np\n",
    "import matplotlib.pyplot as plt"
   ]
  },
  {
   "cell_type": "code",
   "execution_count": 2,
   "metadata": {},
   "outputs": [],
   "source": [
    "def bernouli_sample(p):\n",
    "    while True:\n",
    "        proba = np.random.rand(p)\n",
    "        values = (proba < 0.5).astype(int) * 2 - 1\n",
    "        yield values\n",
    "\n",
    "def approx_gradient(loss, perturb, theta, c):\n",
    "    # SPSA\n",
    "    diff = loss(theta + c * perturb) - loss(theta - c * perturb)\n",
    "    return (diff / 2 * c) / perturb\n",
    "\n",
    "def grad_step(theta, a, grad):\n",
    "    return theta - a * grad"
   ]
  },
  {
   "cell_type": "markdown",
   "metadata": {},
   "source": [
    "$$\n",
    "L(\\theta) = \\sum i t_i + \\prod t_i^{-1}\n",
    "$$\n",
    "\n",
    "$$\n",
    "\\frac{\\partial L}{\\partial t_i} = i - t_i ^{-1} \\prod t_j^{-1}\n",
    "$$\n",
    "\n",
    "$$\n",
    "\\frac{\\partial^2 L}{\\partial t_i^2} = 2 t_i ^{-2} \\prod t_j^{-1}\n",
    "$$"
   ]
  },
  {
   "cell_type": "code",
   "execution_count": 26,
   "metadata": {},
   "outputs": [],
   "source": [
    "def grad_7p14(theta):\n",
    "    # prod tj^-1 either way\n",
    "    prod_part = np.prod(1/theta)\n",
    "    return np.arange(1, len(theta) + 1) - prod_part/theta\n",
    "\n",
    "def hess_7p14(theta):\n",
    "    prod_part = np.prod(1/theta)\n",
    "    return 2 * prod_part / (theta **2)"
   ]
  },
  {
   "cell_type": "code",
   "execution_count": 8,
   "metadata": {},
   "outputs": [
    {
     "name": "stdout",
     "output_type": "stream",
     "text": [
      "0: 56.0\n",
      "10000: 43.463443004418565\n",
      "20000: 43.444692378936665\n",
      "30000: 43.43532621280206\n",
      "40000: 43.4324923085177\n",
      "50000: 43.43190191007094\n",
      "60000: 43.431365720964074\n",
      "70000: 43.43087016428675\n",
      "80000: 43.4304117247048\n",
      "90000: 43.42998736147211\n"
     ]
    }
   ],
   "source": [
    "def loss_7p14(theta):\n",
    "    return theta @ np.arange(1, len(theta) + 1) + np.prod(1/theta)\n",
    "\n",
    "P = 10\n",
    "theta_0 = np.ones(P)\n",
    "a0 = 1\n",
    "c0 = 0.02\n",
    "\n",
    "theta = theta_0\n",
    "losses = []\n",
    "for perturb, i in zip(bernouli_sample(P), range(100_000)):\n",
    "    a = a0\n",
    "    c = c0\n",
    "    if i > 10000:\n",
    "        c = c0 / 2\n",
    "    if i > 30000:\n",
    "        a = a0 / 2\n",
    "    if i > 40000:\n",
    "        c /= 2\n",
    "    loss = loss_7p14(theta)\n",
    "    if i % 10000 == 0:\n",
    "        print(f\"{i}: {loss}\")\n",
    "    grad = approx_gradient(loss_7p14, perturb, theta, c)\n",
    "    theta = grad_step(theta, a, grad)\n",
    "    losses.append(loss)\n",
    "\n"
   ]
  },
  {
   "cell_type": "code",
   "execution_count": 9,
   "metadata": {},
   "outputs": [
    {
     "data": {
      "text/plain": [
       "array([3.75978368, 1.98698617, 1.32277757, 0.99164225, 0.79331819,\n",
       "       0.6610265 , 0.56663109, 0.4957933 , 0.44065127, 0.39659658])"
      ]
     },
     "execution_count": 9,
     "metadata": {},
     "output_type": "execute_result"
    }
   ],
   "source": [
    "theta"
   ]
  },
  {
   "cell_type": "code",
   "execution_count": 12,
   "metadata": {},
   "outputs": [
    {
     "data": {
      "text/plain": [
       "array([-0.05420792,  0.00522329,  0.00358259,  0.00300035,  0.00377808,\n",
       "        0.0038807 ,  0.0049836 ,  0.00555209,  0.00514614,  0.00598093])"
      ]
     },
     "execution_count": 12,
     "metadata": {},
     "output_type": "execute_result"
    }
   ],
   "source": [
    "grad_7p14(theta)"
   ]
  },
  {
   "cell_type": "code",
   "execution_count": 34,
   "metadata": {},
   "outputs": [
    {
     "name": "stdout",
     "output_type": "stream",
     "text": [
      "43.42908853479632\n",
      "3.769 1.987 1.323 0.992 0.793 0.661 0.567 0.496 0.441 0.397\n",
      "43.42449524834137\n",
      "3.948 1.974 1.316 0.987 0.79 0.658 0.564 0.493 0.439 0.395\n",
      "Found bottom I think?\n"
     ]
    }
   ],
   "source": [
    "theta_c = np.array(theta)\n",
    "last_loss = loss_7p14(theta)\n",
    "a0 = 0.1\n",
    "a = a0\n",
    "for i in range(1000):\n",
    "    grad = grad_7p14(theta_c)\n",
    "    hess = hess_7p14(theta_c)\n",
    "    ht = grad / hess\n",
    "    theta_cc = theta_c - .1 * ht\n",
    "    loss_diff = last_loss - loss_7p14(theta_cc)\n",
    "    if a < 1e-9:\n",
    "        print(\"Found bottom I think?\")\n",
    "        break\n",
    "    if loss_diff <= 0:\n",
    "        a /= 2\n",
    "        continue\n",
    "    a = a0\n",
    "    theta_c = theta_cc\n",
    "    last_loss = loss_7p14(theta_c)\n",
    "    if i % 200 == 0:\n",
    "        print(loss_7p14(theta_c))    \n",
    "        print(\" \".join([np.format_float_positional(ti, 3) for ti in theta_c]))"
   ]
  },
  {
   "cell_type": "code",
   "execution_count": 35,
   "metadata": {},
   "outputs": [
    {
     "data": {
      "text/plain": [
       "array([3.94768074, 1.97384074, 1.31589382, 0.98692036, 0.78953629,\n",
       "       0.65794691, 0.56395449, 0.49346018, 0.43863127, 0.39476815])"
      ]
     },
     "execution_count": 35,
     "metadata": {},
     "output_type": "execute_result"
    }
   ],
   "source": [
    "theta_c"
   ]
  },
  {
   "cell_type": "code",
   "execution_count": 39,
   "metadata": {},
   "outputs": [
    {
     "data": {
      "text/plain": [
       "array([-1.64096505e-07,  4.74313533e-08,  5.71312446e-08,  7.03192824e-08,\n",
       "        8.79902204e-08,  1.03435705e-07,  1.22178539e-07,  1.39159736e-07,\n",
       "        1.52928713e-07,  1.70787770e-07])"
      ]
     },
     "execution_count": 39,
     "metadata": {},
     "output_type": "execute_result"
    }
   ],
   "source": [
    "grad"
   ]
  },
  {
   "cell_type": "code",
   "execution_count": 38,
   "metadata": {},
   "outputs": [
    {
     "data": {
      "text/plain": [
       "0.005097361919347065"
      ]
     },
     "execution_count": 38,
     "metadata": {},
     "output_type": "execute_result"
    }
   ],
   "source": [
    "loss_7p14(theta) - loss_7p14(theta_c)"
   ]
  },
  {
   "cell_type": "code",
   "execution_count": 10,
   "metadata": {},
   "outputs": [
    {
     "data": {
      "image/png": "[encoded data removed]",
      "text/plain": [
       "<Figure size 640x480 with 1 Axes>"
      ]
     },
     "metadata": {},
     "output_type": "display_data"
    }
   ],
   "source": [
    "plt.plot(losses)\n",
    "plt.xscale('log')"
   ]
  },
  {
   "cell_type": "code",
   "execution_count": null,
   "metadata": {},
   "outputs": [],
   "source": []
  }
 ],
 "metadata": {
  "kernelspec": {
   "display_name": "pytorch22",
   "language": "python",
   "name": "python3"
  },
  "language_info": {
   "codemirror_mode": {
    "name": "ipython",
    "version": 3
   },
   "file_extension": ".py",
   "mimetype": "text/x-python",
   "name": "python",
   "nbconvert_exporter": "python",
   "pygments_lexer": "ipython3",
   "version": "3.10.8"
  },
  "orig_nbformat": 4
 },
 "nbformat": 4,
 "nbformat_minor": 2
}
